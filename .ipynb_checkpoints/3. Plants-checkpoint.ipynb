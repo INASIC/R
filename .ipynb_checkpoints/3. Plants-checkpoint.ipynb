{
 "cells": [
  {
   "cell_type": "markdown",
   "metadata": {},
   "source": [
    "# 3. Statistics for Data Analysis: R Exercises\n",
    "\n",
    "## Exercise 1 \n",
    "\n",
    "Download from the KEATS page the ﬁle plant_class.txt which contains the size class (from very low to very high) identiﬁed for plants from three diﬀerent types (trt1,trt2,trt3). You can import the data in R with\n",
    "\n",
    "``` data<-read.table(\"plant_class.txt\",header=TRUE) ```\n",
    "\n",
    "and look at the ﬁrst few rows with:\n",
    "\n",
    "``` head(data) ```\n",
    "\n",
    "1. Compute the __absolute__ and __relative bi-dimensional frequency tables__ for these data (look at the help for the table command). \n",
    "\n",
    "2. Compute and represent __graphically__ the __marginal relative frequency tables__ for __plant type__ and the __size__. \n",
    "\n",
    "3. Compute and represent __graphically__ the __conditional relative frequency tables__ for the __size given the plant type__. \n",
    "\n",
    "4. Compute and represent __graphically__ the __conditional relative frequency tables__ for the __plant type given the size__. \n",
    "\n",
    "5. You are now told that the __size__ classes correspond to the following __weight intervals__: \n",
    "\n",
    "    * Very low = [0,3.5]\n",
    "    * low = [3.5,4.5]\n",
    "    * medium= [4.5,5.5]\n",
    "    * high= [5.5,6]\n",
    "    * very high= [6,10]\n",
    "\n",
    "Compute the approximate __mean weight__ and the approximate __conditional mean weight given that the plant type is trt1__.\n"
   ]
  },
  {
   "cell_type": "markdown",
   "metadata": {},
   "source": [
    "### Load Plants Dataset"
   ]
  },
  {
   "cell_type": "code",
   "execution_count": 1,
   "metadata": {},
   "outputs": [
    {
     "data": {
      "text/html": [
       "<table>\n",
       "<thead><tr><th scope=col>type</th><th scope=col>size</th></tr></thead>\n",
       "<tbody>\n",
       "\t<tr><td>trt3     </td><td>low      </td></tr>\n",
       "\t<tr><td>trt3     </td><td>high     </td></tr>\n",
       "\t<tr><td>trt3     </td><td>medium   </td></tr>\n",
       "\t<tr><td>trt3     </td><td>very high</td></tr>\n",
       "\t<tr><td>trt3     </td><td>medium   </td></tr>\n",
       "\t<tr><td>trt3     </td><td>medium   </td></tr>\n",
       "</tbody>\n",
       "</table>\n"
      ],
      "text/latex": [
       "\\begin{tabular}{r|ll}\n",
       " type & size\\\\\n",
       "\\hline\n",
       "\t trt3      & low      \\\\\n",
       "\t trt3      & high     \\\\\n",
       "\t trt3      & medium   \\\\\n",
       "\t trt3      & very high\\\\\n",
       "\t trt3      & medium   \\\\\n",
       "\t trt3      & medium   \\\\\n",
       "\\end{tabular}\n"
      ],
      "text/markdown": [
       "\n",
       "type | size | \n",
       "|---|---|---|---|---|---|\n",
       "| trt3      | low       | \n",
       "| trt3      | high      | \n",
       "| trt3      | medium    | \n",
       "| trt3      | very high | \n",
       "| trt3      | medium    | \n",
       "| trt3      | medium    | \n",
       "\n",
       "\n"
      ],
      "text/plain": [
       "  type size     \n",
       "1 trt3 low      \n",
       "2 trt3 high     \n",
       "3 trt3 medium   \n",
       "4 trt3 very high\n",
       "5 trt3 medium   \n",
       "6 trt3 medium   "
      ]
     },
     "metadata": {},
     "output_type": "display_data"
    }
   ],
   "source": [
    "data<-read.table(\"data/plant_class.txt\",header=TRUE)  # Load data\n",
    "head(data)  # Peek at data"
   ]
  },
  {
   "cell_type": "markdown",
   "metadata": {},
   "source": [
    "# 1. Frequency Tables\n",
    "\n",
    "This section will provide several frequency tables for the plants class/size dataset."
   ]
  },
  {
   "cell_type": "code",
   "execution_count": 2,
   "metadata": {},
   "outputs": [],
   "source": [
    "help(table)  # Look at the documentation for the table command"
   ]
  },
  {
   "cell_type": "markdown",
   "metadata": {},
   "source": [
    "## 1.1 Absolute Frequency"
   ]
  },
  {
   "cell_type": "code",
   "execution_count": 3,
   "metadata": {},
   "outputs": [
    {
     "data": {
      "text/plain": [
       "      size\n",
       "type   high low medium very high\n",
       "  trt1    1   5      3         1\n",
       "  trt2    3   0      5         2\n",
       "  trt3    1   1      7         1"
      ]
     },
     "metadata": {},
     "output_type": "display_data"
    }
   ],
   "source": [
    "table(data)  # Absolute frequency table"
   ]
  },
  {
   "cell_type": "markdown",
   "metadata": {},
   "source": [
    "## 1.2 Relative Bi-dimensional Frequency"
   ]
  },
  {
   "cell_type": "markdown",
   "metadata": {},
   "source": [
    "Bi-dimensional refers to something that has 2 variables, in this case these are: __type__ and __size__. "
   ]
  },
  {
   "cell_type": "code",
   "execution_count": 4,
   "metadata": {},
   "outputs": [
    {
     "data": {
      "text/plain": [
       "      size\n",
       "type         high        low     medium  very high\n",
       "  trt1 0.03333333 0.16666667 0.10000000 0.03333333\n",
       "  trt2 0.10000000 0.00000000 0.16666667 0.06666667\n",
       "  trt3 0.03333333 0.03333333 0.23333333 0.03333333"
      ]
     },
     "metadata": {},
     "output_type": "display_data"
    }
   ],
   "source": [
    "prop.table(table(data))  # Relative bi-dimensional table"
   ]
  },
  {
   "cell_type": "markdown",
   "metadata": {},
   "source": [
    "A relative frequency table is one in which each entry cell is divided by the sum total absolute frequency of the entire table."
   ]
  },
  {
   "cell_type": "code",
   "execution_count": 5,
   "metadata": {},
   "outputs": [
    {
     "data": {
      "text/html": [
       "30"
      ],
      "text/latex": [
       "30"
      ],
      "text/markdown": [
       "30"
      ],
      "text/plain": [
       "[1] 30"
      ]
     },
     "metadata": {},
     "output_type": "display_data"
    }
   ],
   "source": [
    "nrow(data)"
   ]
  },
  {
   "cell_type": "markdown",
   "metadata": {},
   "source": [
    "There are 30 rows in the data, and since each row consists of exactly 1 datapoint - the sum total number of datapoints are 30. The relative frequency table can thus be obtained by dividing the absolute frequency by the sum total: 30. \n",
    "\n",
    "e.g., for the first cell: type=trt1, and size=high: ..."
   ]
  },
  {
   "cell_type": "markdown",
   "metadata": {},
   "source": [
    "## 1.3 Marginal Relative Frequency"
   ]
  },
  {
   "cell_type": "markdown",
   "metadata": {},
   "source": [
    "Marginal frequenices are essentially the __sum total frequency__ for a given variable. In this case, we would sum across the rows to determine the marginal distributions (sum total) for each given plant type, and sum across the columns to determine the marginal distributions for the size of the plants.\n",
    "\n",
    "Let's see how this would look in practice.\n",
    "\n",
    "First, let us determine the ___absolute_ marginal distributions__ for both variables:"
   ]
  },
  {
   "cell_type": "code",
   "execution_count": 6,
   "metadata": {},
   "outputs": [
    {
     "data": {
      "text/plain": [
       "type\n",
       "trt1 trt2 trt3 \n",
       "  10   10   10 "
      ]
     },
     "metadata": {},
     "output_type": "display_data"
    }
   ],
   "source": [
    "margin.table(table(data), margin=1)  # Plant type absolute marginal distribution"
   ]
  },
  {
   "cell_type": "code",
   "execution_count": 7,
   "metadata": {},
   "outputs": [
    {
     "data": {
      "text/plain": [
       "size\n",
       "     high       low    medium very high \n",
       "        5         6        15         4 "
      ]
     },
     "metadata": {},
     "output_type": "display_data"
    }
   ],
   "source": [
    "margin.table(table(data), margin=2)  # Plant size absolute marginal distribution"
   ]
  },
  {
   "cell_type": "markdown",
   "metadata": {},
   "source": [
    "Now, let us determine the ___relative_ marginal distributions__:"
   ]
  },
  {
   "cell_type": "code",
   "execution_count": 8,
   "metadata": {},
   "outputs": [
    {
     "data": {
      "text/plain": [
       "type\n",
       "     trt1      trt2      trt3 \n",
       "0.3333333 0.3333333 0.3333333 "
      ]
     },
     "metadata": {},
     "output_type": "display_data"
    }
   ],
   "source": [
    "prop.table(margin.table(table(data), margin=1))  # Plant type relative marginal distribution"
   ]
  },
  {
   "cell_type": "code",
   "execution_count": 9,
   "metadata": {},
   "outputs": [
    {
     "data": {
      "text/plain": [
       "size\n",
       "     high       low    medium very high \n",
       "0.1666667 0.2000000 0.5000000 0.1333333 "
      ]
     },
     "metadata": {},
     "output_type": "display_data"
    }
   ],
   "source": [
    "prop.table(margin.table(table(data), margin=2))  # Plant size relative marginal distribution"
   ]
  },
  {
   "cell_type": "markdown",
   "metadata": {},
   "source": [
    "Let us __visualize these relative marginal distributions__:"
   ]
  },
  {
   "cell_type": "code",
   "execution_count": 10,
   "metadata": {
    "scrolled": false
   },
   "outputs": [
    {
     "data": {
      "image/png": "[encoded data removed]",
      "text/plain": [
       "Plot with title “Plant Sizes”"
      ]
     },
     "metadata": {},
     "output_type": "display_data"
    }
   ],
   "source": [
    "par(mfrow = c(2,2))  # Dimensions for how the plots are displayed\n",
    "colours = c('red','green','blue','yellow')  # Colours used in the plots\n",
    "\n",
    "pie(prop.table(margin.table(table(data), margin=1)), main='Plant Types', col=colours)  # Pie chart of plant type\n",
    "pie(prop.table(margin.table(table(data), margin=2)), main='Plant Sizes', col=colours)  # Pie chart of plant size\n",
    "barplot(prop.table(margin.table(table(data), margin=1)), main='Plant Types', col=colours)  # Pie chart of plant type\n",
    "barplot(prop.table(margin.table(table(data), margin=2)), main='Plant Sizes', col=colours)  # Pie chart of plant size"
   ]
  },
  {
   "cell_type": "markdown",
   "metadata": {},
   "source": [
    "Here we see that the plant type class is perfectly balanced, with an equal proportion of each plant type relative to the other types. For the plant size, we see that half of the plants in the dataset are medium sized, and the other sizes are fairly close in relative frequency to each other. The most rare sized plant in this dataset are the 'very high' sized plants. "
   ]
  },
  {
   "cell_type": "markdown",
   "metadata": {},
   "source": [
    "## 1.4 Conditional Relative Frequency"
   ]
  },
  {
   "cell_type": "markdown",
   "metadata": {},
   "source": [
    "Here we will answer both question 3 and 4. That is, we will compute the conditional relative frequency tables for the:\n",
    "1. size given the plant type\n",
    "2. plant type given the size\n",
    "\n",
    "Conditional relative frequencies tell us the relative frequencies for datapoints that are a certain value of one variable, given that they have a value of another type of variable.\n",
    "\n",
    "#### 1.4.1 Size Given the Plant Type"
   ]
  },
  {
   "cell_type": "markdown",
   "metadata": {},
   "source": [
    "To begin, let us get some previous information to get us started with this section."
   ]
  },
  {
   "cell_type": "code",
   "execution_count": 11,
   "metadata": {},
   "outputs": [
    {
     "data": {
      "text/plain": [
       "      size\n",
       "type   high low medium very high\n",
       "  trt1    1   5      3         1\n",
       "  trt2    3   0      5         2\n",
       "  trt3    1   1      7         1"
      ]
     },
     "metadata": {},
     "output_type": "display_data"
    }
   ],
   "source": [
    "table(data)  # Absolute frequency"
   ]
  },
  {
   "cell_type": "code",
   "execution_count": 12,
   "metadata": {},
   "outputs": [
    {
     "data": {
      "text/plain": [
       "type\n",
       "trt1 trt2 trt3 \n",
       "  10   10   10 "
      ]
     },
     "metadata": {},
     "output_type": "display_data"
    }
   ],
   "source": [
    "margin.table(table(data), margin=1)  # Marginal absolute frequency: plant type "
   ]
  },
  {
   "cell_type": "code",
   "execution_count": 13,
   "metadata": {},
   "outputs": [
    {
     "data": {
      "text/plain": [
       "size\n",
       "     high       low    medium very high \n",
       "        5         6        15         4 "
      ]
     },
     "metadata": {},
     "output_type": "display_data"
    }
   ],
   "source": [
    "margin.table(table(data), margin=2)  # Marginal absolute frequency: plant size"
   ]
  },
  {
   "cell_type": "markdown",
   "metadata": {},
   "source": [
    "Here, I will briefly give some concrete examples of conditional relative frequencies of size given the plant types. \n",
    "1. For example, since there are only $10$ trt1 plant types, and only $1$ of them has a size of 'high' - the conditional relative frequency of the size being 'high' given that the plant type is 'trt1' is equal to:\n",
    "\n",
    "$$p(\\text{size='high'} | \\text{type='trt1'} ) = \\frac{1}{10} = 0.1.$$ \n",
    "2. Since there are $5$ 'low' plant sizes in the trt1 plant type (of which there are $10$), the conditional relative frequency in this case that the plant size is 'low' given that the plant type is 'trt1' is equal to:\n",
    "\n",
    "$$p(\\text{size='low'} | \\text{type='trt1'} ) = \\frac{5}{10} = 0.5.$$ \n",
    "\n",
    "Having discussed these examples, let us see the full __conditional relative frequency table of the size given the plant type__. The cells in row 1, columns 1 and 2 are the 2 previous examples discussed above."
   ]
  },
  {
   "cell_type": "code",
   "execution_count": 14,
   "metadata": {},
   "outputs": [
    {
     "data": {
      "text/plain": [
       "      size\n",
       "type   high low medium very high\n",
       "  trt1  0.1 0.5    0.3       0.1\n",
       "  trt2  0.3 0.0    0.5       0.2\n",
       "  trt3  0.1 0.1    0.7       0.1"
      ]
     },
     "metadata": {},
     "output_type": "display_data"
    }
   ],
   "source": [
    "prop.table(table(data), margin=1)  # Size given the plant type - Conditional relative frequency table"
   ]
  },
  {
   "cell_type": "markdown",
   "metadata": {},
   "source": [
    "Take note that the __rows sum to 1__, as the sizes (columns) are relative to each class type (row)."
   ]
  },
  {
   "cell_type": "code",
   "execution_count": 15,
   "metadata": {},
   "outputs": [
    {
     "data": {
      "image/png": "[encoded data removed]",
      "text/plain": [
       "Plot with title “p(size|type='trt2')”"
      ]
     },
     "metadata": {},
     "output_type": "display_data"
    }
   ],
   "source": [
    "par(mfrow = c(2,3))  # Dimensions for how the plots are displayed\n",
    "colours = c('red','green','blue','yellow')  # Colours used in the plots\n",
    "\n",
    "# Pie charts\n",
    "pie(prop.table(table(data), margin=1)[1,], main=\"p(size|type='trt1')\", col=colours)\n",
    "pie(prop.table(table(data), margin=1)[2,], main=\"p(size|type='trt2')\", col=colours)\n",
    "pie(prop.table(table(data), margin=1)[3,], main=\"p(size|type='trt2')\", col=colours)\n",
    "\n",
    "# Bar charts\n",
    "barplot(prop.table(table(data), margin=1)[1,], main=\"p(size|type='trt1')\", col=colours)\n",
    "barplot(prop.table(table(data), margin=1)[2,], main=\"p(size|type='trt2')\", col=colours)\n",
    "barplot(prop.table(table(data), margin=1)[3,], main=\"p(size|type='trt2')\", col=colours)"
   ]
  },
  {
   "cell_type": "markdown",
   "metadata": {},
   "source": [
    "These are some ugly, clown-like looking plots. Perhaps look for more suitable colours."
   ]
  },
  {
   "cell_type": "markdown",
   "metadata": {},
   "source": [
    "#### 1.4.1 Plant Type Given the Size\n",
    "\n",
    "Take note that here, the __columns sum to 1__, rather than the rows as was in the last case:"
   ]
  },
  {
   "cell_type": "code",
   "execution_count": 16,
   "metadata": {},
   "outputs": [
    {
     "data": {
      "text/plain": [
       "      size\n",
       "type        high       low    medium very high\n",
       "  trt1 0.2000000 0.8333333 0.2000000 0.2500000\n",
       "  trt2 0.6000000 0.0000000 0.3333333 0.5000000\n",
       "  trt3 0.2000000 0.1666667 0.4666667 0.2500000"
      ]
     },
     "metadata": {},
     "output_type": "display_data"
    }
   ],
   "source": [
    "prop.table(table(data), margin=2)  # Plant type given the size - Conditional relative frequency table"
   ]
  },
  {
   "cell_type": "code",
   "execution_count": 17,
   "metadata": {},
   "outputs": [
    {
     "data": {
      "image/png": "[encoded data removed]",
      "text/plain": [
       "Plot with title “p(type|size='very high')”"
      ]
     },
     "metadata": {},
     "output_type": "display_data"
    }
   ],
   "source": [
    "par(mfrow = c(2,4))  # Dimensions for how the plots are displayed\n",
    "colours = c('red','green','blue')# Colours used in the plots\n",
    "\n",
    "# Pie charts\n",
    "pie(prop.table(table(data), margin=2)[,1], main=\"p(type|size='high')\", col=colours)\n",
    "pie(prop.table(table(data), margin=2)[,2], main=\"p(type|size='low')\", col=colours)\n",
    "pie(prop.table(table(data), margin=2)[,3], main=\"p(type|size='medium')\", col=colours)\n",
    "pie(prop.table(table(data), margin=2)[,3], main=\"p(type|size='very high')\", col=colours)\n",
    "\n",
    "# Barcharts\n",
    "barplot(prop.table(table(data), margin=2)[,1], main=\"p(type|size='high')\", col=colours)\n",
    "barplot(prop.table(table(data), margin=2)[,2], main=\"p(type|size='low')\", col=colours)\n",
    "barplot(prop.table(table(data), margin=2)[,3], main=\"p(type|size='medium')\", col=colours)\n",
    "barplot(prop.table(table(data), margin=2)[,3], main=\"p(type|size='very high')\", col=colours)"
   ]
  },
  {
   "cell_type": "markdown",
   "metadata": {},
   "source": [
    "# 1.6 \n",
    "\n",
    "You are now told that the __size__ classes correspond to the following __weight intervals__: \n",
    "\n",
    "    * Very low = [0,3.5]\n",
    "    * low = [3.5,4.5]\n",
    "    * medium= [4.5,5.5]\n",
    "    * high= [5.5,6]\n",
    "    * very high= [6,10]\n",
    "\n",
    "Compute the approximate __mean weight__ and the approximate __conditional mean weight given that the plant type is trt1__.\n",
    "\n",
    "### 1.6.1 Mean Weight"
   ]
  },
  {
   "cell_type": "markdown",
   "metadata": {},
   "source": [
    "$$\\bar{x} = \\int x p(x) dx$$"
   ]
  },
  {
   "cell_type": "markdown",
   "metadata": {},
   "source": [
    "* $p(x)$ is given by the conditional relative frequencies, calculated earlier.\n",
    "* $x$ is the weight"
   ]
  },
  {
   "cell_type": "code",
   "execution_count": 18,
   "metadata": {},
   "outputs": [],
   "source": [
    "# Define intervals\n",
    "i_very_low=c(0,3.5); i_low=c(3.5,4.5); i_medium=c(4.5,5.5); i_high=c(5.5,6); i_very_high=c(6,10)\n",
    "\n",
    "# Means of intervals\n",
    "m_very_low=mean(i_very_low); m_low=mean(i_low); m_medium=mean(i_medium); m_high=mean(i_high); m_very_high=mean(i_very_high)"
   ]
  },
  {
   "cell_type": "code",
   "execution_count": 19,
   "metadata": {},
   "outputs": [
    {
     "data": {
      "text/plain": [
       "size\n",
       "     high       low    medium very high \n",
       "        5         6        15         4 "
      ]
     },
     "metadata": {},
     "output_type": "display_data"
    }
   ],
   "source": [
    "margin.table(table(data), margin=2)  # Marginal absolute frequency: plant size"
   ]
  },
  {
   "cell_type": "code",
   "execution_count": 20,
   "metadata": {},
   "outputs": [
    {
     "data": {
      "text/plain": [
       "[1]  5  6 15  4"
      ]
     },
     "metadata": {},
     "output_type": "display_data"
    }
   ],
   "source": [
    "x = margin.table(table(data), margin=2)  # Marginal absolute frequency: plant size\n",
    "row.names(x) = NULL  # Remove indices from the table ('high', 'low',...) and just get numbers\n",
    "x"
   ]
  },
  {
   "cell_type": "markdown",
   "metadata": {},
   "source": [
    "SUM( Mean of interval * # of points in that interval ) / N "
   ]
  },
  {
   "cell_type": "code",
   "execution_count": 21,
   "metadata": {},
   "outputs": [
    {
     "data": {
      "text/html": [
       "5.60833333333333"
      ],
      "text/latex": [
       "5.60833333333333"
      ],
      "text/markdown": [
       "5.60833333333333"
      ],
      "text/plain": [
       "[1] 5.608333"
      ]
     },
     "metadata": {},
     "output_type": "display_data"
    }
   ],
   "source": [
    "(x[1] * m_low + x[2] * m_medium + x[3] * m_high + x[4] * m_very_high) / sum(x)"
   ]
  },
  {
   "cell_type": "markdown",
   "metadata": {},
   "source": [
    "Thus, the estimated mean weight of the plants is given above as:\n",
    "\n",
    "$$\\bar{\\text{w}} = 5.61$$\n",
    "\n",
    "This value of the mean weight suggests that most of the plants fall within the 'high' size, which is in agreement with the relative frequency distributions for size."
   ]
  },
  {
   "cell_type": "markdown",
   "metadata": {},
   "source": [
    "### 1.6.2 Conditional Mean Weight given Plant Type\n",
    "\n",
    "Compute the approximate conditional mean weight given that the plant type is trt1.\n",
    "\n",
    "$$p(H|E)=\\frac{p(E|H)p(H)}{p(E)}$$"
   ]
  },
  {
   "cell_type": "markdown",
   "metadata": {},
   "source": [
    "$$p(\\bar{w} | \\text{type='trt1'})$$"
   ]
  },
  {
   "cell_type": "markdown",
   "metadata": {},
   "source": [
    "Seek $p(\\text{size}|\\text{type})$"
   ]
  },
  {
   "cell_type": "markdown",
   "metadata": {},
   "source": [
    "From the size, we can determine the weight"
   ]
  },
  {
   "cell_type": "markdown",
   "metadata": {},
   "source": [
    "$p(\\text{type='trt1'}) = \\frac{1}{3}$\n"
   ]
  },
  {
   "cell_type": "markdown",
   "metadata": {},
   "source": [
    "Below is a table of $p(\\text{size}|\\text{type})$"
   ]
  },
  {
   "cell_type": "code",
   "execution_count": 22,
   "metadata": {},
   "outputs": [
    {
     "data": {
      "text/plain": [
       "      size\n",
       "type   high low medium very high\n",
       "  trt1  0.1 0.5    0.3       0.1\n",
       "  trt2  0.3 0.0    0.5       0.2\n",
       "  trt3  0.1 0.1    0.7       0.1"
      ]
     },
     "metadata": {},
     "output_type": "display_data"
    }
   ],
   "source": [
    "prop.table(table(data), margin=1)  # Size given the plant type - Conditional relative frequency table"
   ]
  },
  {
   "cell_type": "markdown",
   "metadata": {},
   "source": [
    "Therefore, multiply each element of the rows by the mean weight within their weight intervals - and sum them to get the mean weight conditioned on the plant type."
   ]
  },
  {
   "cell_type": "code",
   "execution_count": 23,
   "metadata": {},
   "outputs": [
    {
     "data": {
      "text/plain": [
       "      size\n",
       "type   high low medium very high\n",
       "  trt1  0.1 0.5    0.3       0.1\n",
       "  trt2  0.3 0.0    0.5       0.2\n",
       "  trt3  0.1 0.1    0.7       0.1"
      ]
     },
     "metadata": {},
     "output_type": "display_data"
    }
   ],
   "source": [
    "prop.table(table(data), margin=1)  # Size given the plant type - Conditional relative frequency table"
   ]
  },
  {
   "cell_type": "markdown",
   "metadata": {},
   "source": [
    "Recall the weight intervals, and the means calculated from those intervals previously:"
   ]
  },
  {
   "cell_type": "code",
   "execution_count": 24,
   "metadata": {},
   "outputs": [],
   "source": [
    "# Define intervals\n",
    "i_very_low=c(0,3.5); i_low=c(3.5,4.5); i_medium=c(4.5,5.5); i_high=c(5.5,6); i_very_high=c(6,10)\n",
    "\n",
    "# Means of intervals\n",
    "m_very_low=mean(i_very_low); m_low=mean(i_low); m_medium=mean(i_medium); m_high=mean(i_high); m_very_high=mean(i_very_high)"
   ]
  },
  {
   "cell_type": "markdown",
   "metadata": {},
   "source": [
    "$$\\bar{w}|\\text{type} = \\sum_{\\text{size}} \\bar{w}(\\text{size}) f(\\text{size|type})$$"
   ]
  },
  {
   "cell_type": "code",
   "execution_count": 25,
   "metadata": {},
   "outputs": [
    {
     "data": {
      "text/html": [
       "4.65"
      ],
      "text/latex": [
       "4.65"
      ],
      "text/markdown": [
       "4.65"
      ],
      "text/plain": [
       "[1] 4.65"
      ]
     },
     "metadata": {},
     "output_type": "display_data"
    },
    {
     "data": {
      "text/html": [
       "5.375"
      ],
      "text/latex": [
       "5.375"
      ],
      "text/markdown": [
       "5.375"
      ],
      "text/plain": [
       "[1] 5.375"
      ]
     },
     "metadata": {},
     "output_type": "display_data"
    },
    {
     "data": {
      "text/html": [
       "5.05"
      ],
      "text/latex": [
       "5.05"
      ],
      "text/markdown": [
       "5.05"
      ],
      "text/plain": [
       "[1] 5.05"
      ]
     },
     "metadata": {},
     "output_type": "display_data"
    }
   ],
   "source": [
    "0.1*m_high + 0.5*m_low + 0.3*m_medium + 0.1*m_high  # Mean weight, given that its a 'trt1' type\n",
    "0.3*m_high + 0.0*m_low + 0.5*m_medium + 0.2*m_high  # Mean weight, given that its a 'trt2' type\n",
    "0.1*m_high + 0.1*m_low + 0.7*m_medium + 0.1*m_high  # Mean weight, given that its a 'trt3' type"
   ]
  },
  {
   "cell_type": "markdown",
   "metadata": {},
   "source": [
    "Thus, the approximate conditional mean weight given that the plant type is trt1 is: __4.65__."
   ]
  },
  {
   "cell_type": "markdown",
   "metadata": {},
   "source": [
    "$$(\\hat{\\bar{w}}|\\text{type='trt1'})=4.65$$\n",
    "$$(\\hat{\\bar{w}}|\\text{type='trt2'})=5.38$$\n",
    "$$(\\hat{\\bar{w}}|\\text{type='trt3'})=5.05$$"
   ]
  },
  {
   "cell_type": "markdown",
   "metadata": {},
   "source": [
    "## (Optional) Exercise 2 \n",
    "\n",
    "Download now from the KEATS page the ﬁle ```plant_weight.txt```, which contains a different dataset where the variable weight have been recorded as a continuos variable. Redeﬁne classes intervals (to be labelled from very low to very high) so that all 5 of them are non-empty when binning this new weight data. Build a new dataset with the new binned variable and compute the marginal frequency table for size and the approximated mean. Compare it with the mean of the unbinned variable.\n"
   ]
  },
  {
   "cell_type": "markdown",
   "metadata": {},
   "source": [
    "### 2.1 Load the Data"
   ]
  },
  {
   "cell_type": "code",
   "execution_count": 26,
   "metadata": {},
   "outputs": [
    {
     "data": {
      "text/html": [
       "<table>\n",
       "<thead><tr><th scope=col>type</th><th scope=col>weight</th></tr></thead>\n",
       "<tbody>\n",
       "\t<tr><td>trt3</td><td>4.17</td></tr>\n",
       "\t<tr><td>trt3</td><td>5.58</td></tr>\n",
       "\t<tr><td>trt3</td><td>5.18</td></tr>\n",
       "\t<tr><td>trt3</td><td>6.11</td></tr>\n",
       "\t<tr><td>trt3</td><td>4.50</td></tr>\n",
       "\t<tr><td>trt3</td><td>4.61</td></tr>\n",
       "</tbody>\n",
       "</table>\n"
      ],
      "text/latex": [
       "\\begin{tabular}{r|ll}\n",
       " type & weight\\\\\n",
       "\\hline\n",
       "\t trt3 & 4.17\\\\\n",
       "\t trt3 & 5.58\\\\\n",
       "\t trt3 & 5.18\\\\\n",
       "\t trt3 & 6.11\\\\\n",
       "\t trt3 & 4.50\\\\\n",
       "\t trt3 & 4.61\\\\\n",
       "\\end{tabular}\n"
      ],
      "text/markdown": [
       "\n",
       "type | weight | \n",
       "|---|---|---|---|---|---|\n",
       "| trt3 | 4.17 | \n",
       "| trt3 | 5.58 | \n",
       "| trt3 | 5.18 | \n",
       "| trt3 | 6.11 | \n",
       "| trt3 | 4.50 | \n",
       "| trt3 | 4.61 | \n",
       "\n",
       "\n"
      ],
      "text/plain": [
       "  type weight\n",
       "1 trt3 4.17  \n",
       "2 trt3 5.58  \n",
       "3 trt3 5.18  \n",
       "4 trt3 6.11  \n",
       "5 trt3 4.50  \n",
       "6 trt3 4.61  "
      ]
     },
     "metadata": {},
     "output_type": "display_data"
    }
   ],
   "source": [
    "plant_weights = read.table(\"data/plant_weight.txt\",header=TRUE)  # Load data\n",
    "head(plant_weights)  # Peek at data"
   ]
  },
  {
   "cell_type": "markdown",
   "metadata": {},
   "source": [
    "### 1.2 Redeﬁne size Intervals\n",
    "\n",
    "Redeﬁne the size intervals (to be labelled from very low to very high) so that all 5 of them are non-empty when binning this new weight data."
   ]
  },
  {
   "cell_type": "markdown",
   "metadata": {},
   "source": [
    "Previously:"
   ]
  },
  {
   "cell_type": "code",
   "execution_count": 27,
   "metadata": {},
   "outputs": [
    {
     "data": {
      "image/png": "[encoded data removed]",
      "text/plain": [
       "Plot with title “(previous) Plant Sizes”"
      ]
     },
     "metadata": {},
     "output_type": "display_data"
    }
   ],
   "source": [
    "barplot(prop.table(margin.table(table(data), margin=2)), main='(previous) Plant Sizes', col=colours)  # Pie chart of plant size"
   ]
  },
  {
   "cell_type": "markdown",
   "metadata": {},
   "source": [
    "We immediately note that there are only 4 classes in this previous dataset, and there are zero ```very low``` sized plants. Our task here is to divide the dataset into 5 classes, including the ```'very low``` size interval."
   ]
  },
  {
   "cell_type": "markdown",
   "metadata": {},
   "source": [
    "To achieve this, let us first determine the range of our dataset."
   ]
  },
  {
   "cell_type": "code",
   "execution_count": 28,
   "metadata": {},
   "outputs": [
    {
     "data": {
      "text/html": [
       "3.59"
      ],
      "text/latex": [
       "3.59"
      ],
      "text/markdown": [
       "3.59"
      ],
      "text/plain": [
       "[1] 3.59"
      ]
     },
     "metadata": {},
     "output_type": "display_data"
    }
   ],
   "source": [
    "min(plant_weights$weight)"
   ]
  },
  {
   "cell_type": "code",
   "execution_count": 29,
   "metadata": {},
   "outputs": [
    {
     "data": {
      "text/html": [
       "6.31"
      ],
      "text/latex": [
       "6.31"
      ],
      "text/markdown": [
       "6.31"
      ],
      "text/plain": [
       "[1] 6.31"
      ]
     },
     "metadata": {},
     "output_type": "display_data"
    }
   ],
   "source": [
    "max(plant_weights$weight)"
   ]
  },
  {
   "cell_type": "code",
   "execution_count": 30,
   "metadata": {},
   "outputs": [
    {
     "data": {
      "image/png": "[encoded data removed]",
      "text/plain": [
       "Plot with title “Histogram of plant_weights$weight”"
      ]
     },
     "metadata": {},
     "output_type": "display_data"
    }
   ],
   "source": [
    "hist(plant_weights$weight)"
   ]
  },
  {
   "cell_type": "markdown",
   "metadata": {},
   "source": [
    "We thus need to divide this region weight=3.59 --> weight =6.31 into 5 intervals (very low, low, medium, high, very high). We need to determine the __interval limits__ for each interval. Let's do this by balancing the dataset and __ensuring that each interval has the same amount of plants__. "
   ]
  },
  {
   "cell_type": "code",
   "execution_count": null,
   "metadata": {},
   "outputs": [],
   "source": []
  },
  {
   "cell_type": "code",
   "execution_count": 31,
   "metadata": {},
   "outputs": [
    {
     "data": {
      "text/html": [
       "<table>\n",
       "<thead><tr><th scope=col>type</th><th scope=col>size</th><th scope=col>type</th><th scope=col>weight</th></tr></thead>\n",
       "<tbody>\n",
       "\t<tr><td>trt3     </td><td>low      </td><td>trt3     </td><td>4.17     </td></tr>\n",
       "\t<tr><td>trt3     </td><td>high     </td><td>trt3     </td><td>5.58     </td></tr>\n",
       "\t<tr><td>trt3     </td><td>medium   </td><td>trt3     </td><td>5.18     </td></tr>\n",
       "\t<tr><td>trt3     </td><td>very high</td><td>trt3     </td><td>6.11     </td></tr>\n",
       "\t<tr><td>trt3     </td><td>medium   </td><td>trt3     </td><td>4.50     </td></tr>\n",
       "\t<tr><td>trt3     </td><td>medium   </td><td>trt3     </td><td>4.61     </td></tr>\n",
       "\t<tr><td>trt3     </td><td>medium   </td><td>trt3     </td><td>5.17     </td></tr>\n",
       "\t<tr><td>trt3     </td><td>medium   </td><td>trt3     </td><td>4.53     </td></tr>\n",
       "\t<tr><td>trt3     </td><td>medium   </td><td>trt3     </td><td>5.33     </td></tr>\n",
       "\t<tr><td>trt3     </td><td>medium   </td><td>trt3     </td><td>5.14     </td></tr>\n",
       "\t<tr><td>trt1     </td><td>medium   </td><td>trt1     </td><td>4.81     </td></tr>\n",
       "\t<tr><td>trt1     </td><td>low      </td><td>trt1     </td><td>4.17     </td></tr>\n",
       "\t<tr><td>trt1     </td><td>low      </td><td>trt1     </td><td>4.41     </td></tr>\n",
       "\t<tr><td>trt1     </td><td>low      </td><td>trt1     </td><td>3.59     </td></tr>\n",
       "\t<tr><td>trt1     </td><td>high     </td><td>trt1     </td><td>5.87     </td></tr>\n",
       "\t<tr><td>trt1     </td><td>low      </td><td>trt1     </td><td>3.83     </td></tr>\n",
       "\t<tr><td>trt1     </td><td>very high</td><td>trt1     </td><td>6.03     </td></tr>\n",
       "\t<tr><td>trt1     </td><td>medium   </td><td>trt1     </td><td>4.89     </td></tr>\n",
       "\t<tr><td>trt1     </td><td>low      </td><td>trt1     </td><td>4.32     </td></tr>\n",
       "\t<tr><td>trt1     </td><td>medium   </td><td>trt1     </td><td>4.69     </td></tr>\n",
       "\t<tr><td>trt2     </td><td>very high</td><td>trt2     </td><td>6.31     </td></tr>\n",
       "\t<tr><td>trt2     </td><td>medium   </td><td>trt2     </td><td>5.12     </td></tr>\n",
       "\t<tr><td>trt2     </td><td>high     </td><td>trt2     </td><td>5.54     </td></tr>\n",
       "\t<tr><td>trt2     </td><td>high     </td><td>trt2     </td><td>5.50     </td></tr>\n",
       "\t<tr><td>trt2     </td><td>medium   </td><td>trt2     </td><td>5.37     </td></tr>\n",
       "\t<tr><td>trt2     </td><td>medium   </td><td>trt2     </td><td>5.29     </td></tr>\n",
       "\t<tr><td>trt2     </td><td>medium   </td><td>trt2     </td><td>4.92     </td></tr>\n",
       "\t<tr><td>trt2     </td><td>very high</td><td>trt2     </td><td>6.15     </td></tr>\n",
       "\t<tr><td>trt2     </td><td>high     </td><td>trt2     </td><td>5.80     </td></tr>\n",
       "\t<tr><td>trt2     </td><td>medium   </td><td>trt2     </td><td>5.26     </td></tr>\n",
       "</tbody>\n",
       "</table>\n"
      ],
      "text/latex": [
       "\\begin{tabular}{r|llll}\n",
       " type & size & type & weight\\\\\n",
       "\\hline\n",
       "\t trt3      & low       & trt3      & 4.17     \\\\\n",
       "\t trt3      & high      & trt3      & 5.58     \\\\\n",
       "\t trt3      & medium    & trt3      & 5.18     \\\\\n",
       "\t trt3      & very high & trt3      & 6.11     \\\\\n",
       "\t trt3      & medium    & trt3      & 4.50     \\\\\n",
       "\t trt3      & medium    & trt3      & 4.61     \\\\\n",
       "\t trt3      & medium    & trt3      & 5.17     \\\\\n",
       "\t trt3      & medium    & trt3      & 4.53     \\\\\n",
       "\t trt3      & medium    & trt3      & 5.33     \\\\\n",
       "\t trt3      & medium    & trt3      & 5.14     \\\\\n",
       "\t trt1      & medium    & trt1      & 4.81     \\\\\n",
       "\t trt1      & low       & trt1      & 4.17     \\\\\n",
       "\t trt1      & low       & trt1      & 4.41     \\\\\n",
       "\t trt1      & low       & trt1      & 3.59     \\\\\n",
       "\t trt1      & high      & trt1      & 5.87     \\\\\n",
       "\t trt1      & low       & trt1      & 3.83     \\\\\n",
       "\t trt1      & very high & trt1      & 6.03     \\\\\n",
       "\t trt1      & medium    & trt1      & 4.89     \\\\\n",
       "\t trt1      & low       & trt1      & 4.32     \\\\\n",
       "\t trt1      & medium    & trt1      & 4.69     \\\\\n",
       "\t trt2      & very high & trt2      & 6.31     \\\\\n",
       "\t trt2      & medium    & trt2      & 5.12     \\\\\n",
       "\t trt2      & high      & trt2      & 5.54     \\\\\n",
       "\t trt2      & high      & trt2      & 5.50     \\\\\n",
       "\t trt2      & medium    & trt2      & 5.37     \\\\\n",
       "\t trt2      & medium    & trt2      & 5.29     \\\\\n",
       "\t trt2      & medium    & trt2      & 4.92     \\\\\n",
       "\t trt2      & very high & trt2      & 6.15     \\\\\n",
       "\t trt2      & high      & trt2      & 5.80     \\\\\n",
       "\t trt2      & medium    & trt2      & 5.26     \\\\\n",
       "\\end{tabular}\n"
      ],
      "text/markdown": [
       "\n",
       "type | size | type | weight | \n",
       "|---|---|---|---|---|---|---|---|---|---|---|---|---|---|---|---|---|---|---|---|---|---|---|---|---|---|---|---|---|---|\n",
       "| trt3      | low       | trt3      | 4.17      | \n",
       "| trt3      | high      | trt3      | 5.58      | \n",
       "| trt3      | medium    | trt3      | 5.18      | \n",
       "| trt3      | very high | trt3      | 6.11      | \n",
       "| trt3      | medium    | trt3      | 4.50      | \n",
       "| trt3      | medium    | trt3      | 4.61      | \n",
       "| trt3      | medium    | trt3      | 5.17      | \n",
       "| trt3      | medium    | trt3      | 4.53      | \n",
       "| trt3      | medium    | trt3      | 5.33      | \n",
       "| trt3      | medium    | trt3      | 5.14      | \n",
       "| trt1      | medium    | trt1      | 4.81      | \n",
       "| trt1      | low       | trt1      | 4.17      | \n",
       "| trt1      | low       | trt1      | 4.41      | \n",
       "| trt1      | low       | trt1      | 3.59      | \n",
       "| trt1      | high      | trt1      | 5.87      | \n",
       "| trt1      | low       | trt1      | 3.83      | \n",
       "| trt1      | very high | trt1      | 6.03      | \n",
       "| trt1      | medium    | trt1      | 4.89      | \n",
       "| trt1      | low       | trt1      | 4.32      | \n",
       "| trt1      | medium    | trt1      | 4.69      | \n",
       "| trt2      | very high | trt2      | 6.31      | \n",
       "| trt2      | medium    | trt2      | 5.12      | \n",
       "| trt2      | high      | trt2      | 5.54      | \n",
       "| trt2      | high      | trt2      | 5.50      | \n",
       "| trt2      | medium    | trt2      | 5.37      | \n",
       "| trt2      | medium    | trt2      | 5.29      | \n",
       "| trt2      | medium    | trt2      | 4.92      | \n",
       "| trt2      | very high | trt2      | 6.15      | \n",
       "| trt2      | high      | trt2      | 5.80      | \n",
       "| trt2      | medium    | trt2      | 5.26      | \n",
       "\n",
       "\n"
      ],
      "text/plain": [
       "   type size      type weight\n",
       "1  trt3 low       trt3 4.17  \n",
       "2  trt3 high      trt3 5.58  \n",
       "3  trt3 medium    trt3 5.18  \n",
       "4  trt3 very high trt3 6.11  \n",
       "5  trt3 medium    trt3 4.50  \n",
       "6  trt3 medium    trt3 4.61  \n",
       "7  trt3 medium    trt3 5.17  \n",
       "8  trt3 medium    trt3 4.53  \n",
       "9  trt3 medium    trt3 5.33  \n",
       "10 trt3 medium    trt3 5.14  \n",
       "11 trt1 medium    trt1 4.81  \n",
       "12 trt1 low       trt1 4.17  \n",
       "13 trt1 low       trt1 4.41  \n",
       "14 trt1 low       trt1 3.59  \n",
       "15 trt1 high      trt1 5.87  \n",
       "16 trt1 low       trt1 3.83  \n",
       "17 trt1 very high trt1 6.03  \n",
       "18 trt1 medium    trt1 4.89  \n",
       "19 trt1 low       trt1 4.32  \n",
       "20 trt1 medium    trt1 4.69  \n",
       "21 trt2 very high trt2 6.31  \n",
       "22 trt2 medium    trt2 5.12  \n",
       "23 trt2 high      trt2 5.54  \n",
       "24 trt2 high      trt2 5.50  \n",
       "25 trt2 medium    trt2 5.37  \n",
       "26 trt2 medium    trt2 5.29  \n",
       "27 trt2 medium    trt2 4.92  \n",
       "28 trt2 very high trt2 6.15  \n",
       "29 trt2 high      trt2 5.80  \n",
       "30 trt2 medium    trt2 5.26  "
      ]
     },
     "metadata": {},
     "output_type": "display_data"
    }
   ],
   "source": [
    "cbind(data, plant_weights)"
   ]
  },
  {
   "cell_type": "code",
   "execution_count": null,
   "metadata": {},
   "outputs": [],
   "source": []
  }
 ],
 "metadata": {
  "kernelspec": {
   "display_name": "R",
   "language": "R",
   "name": "ir"
  },
  "language_info": {
   "codemirror_mode": "r",
   "file_extension": ".r",
   "mimetype": "text/x-r-source",
   "name": "R",
   "pygments_lexer": "r",
   "version": "3.2.3"
  }
 },
 "nbformat": 4,
 "nbformat_minor": 2
}
