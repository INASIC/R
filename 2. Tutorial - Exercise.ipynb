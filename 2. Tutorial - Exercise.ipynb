{
 "cells": [
  {
   "cell_type": "markdown",
   "metadata": {},
   "source": [
    "Anthony Hills | k1896490\n",
    "\n",
    "# Exercise 2 - Table of Contents\n",
    "\n",
    "[1.](#1), [2.](#2), [3.](#3), [4.](#4)"
   ]
  },
  {
   "cell_type": "markdown",
   "metadata": {},
   "source": [
    "# <a class=\"anchor\" id=\"1\"></a> 1.\n",
    "The measurements xi (in cm) of the height of the students from a small class of n = 15 people are:\n",
    "\n",
    "$x_{1} = 167,x_{2} = 167,x_{3} = 178,x_{4} = 150,x_{5} = 186,x_{6} = 155,x_{7} = 174,x_{8} = 192,\n",
    "x_{9} = 164,x_{10} = 179,x_{11} = 171,x_{12} = 176,x_{13} = 169,x_{14} = 173,x_{15} = 170.$\n",
    "\n",
    "What are the __quartiles__ of the distribution of the height in the class? Use a __boxplot__ to represent the data visually."
   ]
  },
  {
   "cell_type": "code",
   "execution_count": 1,
   "metadata": {},
   "outputs": [
    {
     "data": {
      "text/html": [
       "<ol class=list-inline>\n",
       "\t<li>150</li>\n",
       "\t<li>155</li>\n",
       "\t<li>164</li>\n",
       "\t<li>167</li>\n",
       "\t<li>167</li>\n",
       "\t<li>169</li>\n",
       "\t<li>170</li>\n",
       "\t<li>171</li>\n",
       "\t<li>173</li>\n",
       "\t<li>174</li>\n",
       "\t<li>176</li>\n",
       "\t<li>178</li>\n",
       "\t<li>179</li>\n",
       "\t<li>186</li>\n",
       "\t<li>192</li>\n",
       "</ol>\n"
      ],
      "text/latex": [
       "\\begin{enumerate*}\n",
       "\\item 150\n",
       "\\item 155\n",
       "\\item 164\n",
       "\\item 167\n",
       "\\item 167\n",
       "\\item 169\n",
       "\\item 170\n",
       "\\item 171\n",
       "\\item 173\n",
       "\\item 174\n",
       "\\item 176\n",
       "\\item 178\n",
       "\\item 179\n",
       "\\item 186\n",
       "\\item 192\n",
       "\\end{enumerate*}\n"
      ],
      "text/markdown": [
       "1. 150\n",
       "2. 155\n",
       "3. 164\n",
       "4. 167\n",
       "5. 167\n",
       "6. 169\n",
       "7. 170\n",
       "8. 171\n",
       "9. 173\n",
       "10. 174\n",
       "11. 176\n",
       "12. 178\n",
       "13. 179\n",
       "14. 186\n",
       "15. 192\n",
       "\n",
       "\n"
      ],
      "text/plain": [
       " [1] 150 155 164 167 167 169 170 171 173 174 176 178 179 186 192"
      ]
     },
     "metadata": {},
     "output_type": "display_data"
    }
   ],
   "source": [
    "# Vector of heights\n",
    "X = c(167, 167, 178, 150, 186, 155, 174, 192, 164, 179, 171, 176, 169, 173, 170)\n",
    "X = sort(X)  # Order the heights\n",
    "X"
   ]
  },
  {
   "cell_type": "code",
   "execution_count": 2,
   "metadata": {},
   "outputs": [
    {
     "data": {
      "text/html": [
       "<dl class=dl-horizontal>\n",
       "\t<dt>0%</dt>\n",
       "\t\t<dd>150</dd>\n",
       "\t<dt>25%</dt>\n",
       "\t\t<dd>167</dd>\n",
       "\t<dt>50%</dt>\n",
       "\t\t<dd>171</dd>\n",
       "\t<dt>75%</dt>\n",
       "\t\t<dd>177</dd>\n",
       "\t<dt>100%</dt>\n",
       "\t\t<dd>192</dd>\n",
       "</dl>\n"
      ],
      "text/latex": [
       "\\begin{description*}\n",
       "\\item[0\\textbackslash{}\\%] 150\n",
       "\\item[25\\textbackslash{}\\%] 167\n",
       "\\item[50\\textbackslash{}\\%] 171\n",
       "\\item[75\\textbackslash{}\\%] 177\n",
       "\\item[100\\textbackslash{}\\%] 192\n",
       "\\end{description*}\n"
      ],
      "text/markdown": [
       "0%\n",
       ":   15025%\n",
       ":   16750%\n",
       ":   17175%\n",
       ":   177100%\n",
       ":   192\n",
       "\n"
      ],
      "text/plain": [
       "  0%  25%  50%  75% 100% \n",
       " 150  167  171  177  192 "
      ]
     },
     "metadata": {},
     "output_type": "display_data"
    }
   ],
   "source": [
    "# Return quantiles with convinient R function\n",
    "quantile(X)"
   ]
  },
  {
   "cell_type": "code",
   "execution_count": 3,
   "metadata": {},
   "outputs": [
    {
     "name": "stdout",
     "output_type": "stream",
     "text": [
      "[1] \"Quantiles:\"\n",
      "[1] \"  25% = 167\"\n",
      "[1] \"  50% = 171\"\n",
      "[1] \"  75% = 177\"\n"
     ]
    }
   ],
   "source": [
    "# Manually return quantiles\n",
    "if (length(X) %% 2 == 1) {  # Odd vector length\n",
    "    q1 = 0.5*(X[ceiling(length(X)*(1/4))]+X[ceiling(length(X)*(1/4))+1])  # First quartile\n",
    "    q2 = X[ceiling(length(X)*(1/2))] # Median\n",
    "    q3 = 0.5*(X[floor(length(X)*(3/4))]+X[floor(length(X)*(3/4))+1])  # Third quartile\n",
    "} else {  # Even vector length\n",
    "    q1 = X[ceiling(length(X)*(1/4))]  # First quartile\n",
    "    q2 = 0.5*(X[length(X)*(1/2)] + X[length(X)*(1/2)+1])  # Median\n",
    "    q3 = X[floor(length(X)*(3/4))]  # Third quartile\n",
    "}\n",
    "\n",
    "print(\"Quantiles:\")\n",
    "print(paste0(\"  25% = \", q1))\n",
    "print(paste0(\"  50% = \", q2))\n",
    "print(paste0(\"  75% = \", q3))"
   ]
  },
  {
   "cell_type": "code",
   "execution_count": 4,
   "metadata": {},
   "outputs": [
    {
     "data": {
      "image/png": "[encoded data removed]",
      "text/plain": [
       "Plot with title “Height of Students (n=15)”"
      ]
     },
     "metadata": {},
     "output_type": "display_data"
    }
   ],
   "source": [
    "boxplot(X, main=\"Height of Students (n=15)\", ylab=\"Height (cm)\")"
   ]
  },
  {
   "cell_type": "markdown",
   "metadata": {},
   "source": [
    "# <a class=\"anchor\" id=\"2\"></a> 2."
   ]
  },
  {
   "cell_type": "markdown",
   "metadata": {},
   "source": [
    "__100 employed workers__ from a district of London were surveyed about their sex and their employment status on 10.01.2011. The survey has the following result:"
   ]
  },
  {
   "cell_type": "code",
   "execution_count": 5,
   "metadata": {},
   "outputs": [],
   "source": [
    "sex = c(\"female\",\"male\")\n",
    "\n",
    "# Employment Status\n",
    "office_worker = c(15,10)\n",
    "non_manual_worker = c(20,30)\n",
    "manual_worker = c(5,20)"
   ]
  },
  {
   "cell_type": "code",
   "execution_count": 6,
   "metadata": {},
   "outputs": [
    {
     "data": {
      "text/html": [
       "<table>\n",
       "<thead><tr><th scope=col>sex</th><th scope=col>office_worker</th><th scope=col>non_manual_worker</th><th scope=col>manual_worker</th></tr></thead>\n",
       "<tbody>\n",
       "\t<tr><td>female</td><td>15    </td><td>20    </td><td> 5    </td></tr>\n",
       "\t<tr><td>male  </td><td>10    </td><td>30    </td><td>20    </td></tr>\n",
       "</tbody>\n",
       "</table>\n"
      ],
      "text/latex": [
       "\\begin{tabular}{r|llll}\n",
       " sex & office\\_worker & non\\_manual\\_worker & manual\\_worker\\\\\n",
       "\\hline\n",
       "\t female & 15     & 20     &  5    \\\\\n",
       "\t male   & 10     & 30     & 20    \\\\\n",
       "\\end{tabular}\n"
      ],
      "text/markdown": [
       "\n",
       "sex | office_worker | non_manual_worker | manual_worker | \n",
       "|---|---|\n",
       "| female | 15     | 20     |  5     | \n",
       "| male   | 10     | 30     | 20     | \n",
       "\n",
       "\n"
      ],
      "text/plain": [
       "  sex    office_worker non_manual_worker manual_worker\n",
       "1 female 15            20                 5           \n",
       "2 male   10            30                20           "
      ]
     },
     "metadata": {},
     "output_type": "display_data"
    }
   ],
   "source": [
    "df = data.frame(sex, office_worker, non_manual_worker, manual_worker)\n",
    "df"
   ]
  },
  {
   "cell_type": "markdown",
   "metadata": {},
   "source": [
    "### a) \n",
    "Determine the __marginal distributions__ of the 100 employees by their sex and by their employment status. "
   ]
  },
  {
   "cell_type": "code",
   "execution_count": 7,
   "metadata": {},
   "outputs": [],
   "source": [
    "temp_df = df \n",
    "temp_df$sex=NULL # Temporarily drop non-numeric column\n",
    "md_sex = colSums(temp_df)  # Sum columns\n",
    "md_employment = rowSums(temp_df)  # Sum rows"
   ]
  },
  {
   "cell_type": "code",
   "execution_count": 8,
   "metadata": {},
   "outputs": [],
   "source": [
    "sex = c(\"female\",\"male\", \" (marginal_distribution) \")  # Add a new row to the left-most column\n",
    "\n",
    "# Employment Status\n",
    "office_worker = c(15,10, md_sex[1])\n",
    "non_manual_worker = c(20,30, md_sex[2])\n",
    "manual_worker = c(5,20, md_sex[3])\n",
    "\n",
    "# Marginal distributions of employment\n",
    "marginal_distribution = c(md_employment,\" \")"
   ]
  },
  {
   "cell_type": "code",
   "execution_count": 9,
   "metadata": {},
   "outputs": [
    {
     "data": {
      "text/html": [
       "<table>\n",
       "<thead><tr><th scope=col>sex</th><th scope=col>office_worker</th><th scope=col>non_manual_worker</th><th scope=col>manual_worker</th><th scope=col>marginal_distribution</th></tr></thead>\n",
       "<tbody>\n",
       "\t<tr><td>female                   </td><td>15                       </td><td>20                       </td><td> 5                       </td><td>40                       </td></tr>\n",
       "\t<tr><td>male                     </td><td>10                       </td><td>30                       </td><td>20                       </td><td>60                       </td></tr>\n",
       "\t<tr><td> (marginal_distribution) </td><td>25                       </td><td>50                       </td><td>25                       </td><td>                         </td></tr>\n",
       "</tbody>\n",
       "</table>\n"
      ],
      "text/latex": [
       "\\begin{tabular}{r|lllll}\n",
       " sex & office\\_worker & non\\_manual\\_worker & manual\\_worker & marginal\\_distribution\\\\\n",
       "\\hline\n",
       "\t female                    & 15                        & 20                        &  5                        & 40                       \\\\\n",
       "\t male                      & 10                        & 30                        & 20                        & 60                       \\\\\n",
       "\t  (marginal\\_distribution)  & 25                          & 50                          & 25                          &                            \\\\\n",
       "\\end{tabular}\n"
      ],
      "text/markdown": [
       "\n",
       "sex | office_worker | non_manual_worker | manual_worker | marginal_distribution | \n",
       "|---|---|---|\n",
       "| female                    | 15                        | 20                        |  5                        | 40                        | \n",
       "| male                      | 10                        | 30                        | 20                        | 60                        | \n",
       "|  (marginal_distribution)  | 25                        | 50                        | 25                        |                           | \n",
       "\n",
       "\n"
      ],
      "text/plain": [
       "  sex                       office_worker non_manual_worker manual_worker\n",
       "1 female                    15            20                 5           \n",
       "2 male                      10            30                20           \n",
       "3  (marginal_distribution)  25            50                25           \n",
       "  marginal_distribution\n",
       "1 40                   \n",
       "2 60                   \n",
       "3                      "
      ]
     },
     "metadata": {},
     "output_type": "display_data"
    }
   ],
   "source": [
    "# Show the marginal distribution table\n",
    "md_df = data.frame(sex, office_worker, non_manual_worker, manual_worker, marginal_distribution)\n",
    "md_df"
   ]
  },
  {
   "cell_type": "markdown",
   "metadata": {},
   "source": [
    "## (b)\n",
    "\n",
    "Determine the relative distribution of the employment status for the female employees. "
   ]
  },
  {
   "cell_type": "code",
   "execution_count": 10,
   "metadata": {},
   "outputs": [],
   "source": [
    "sex = c(\"female\",\"male\")\n",
    "\n",
    "# Employment Status\n",
    "office_worker = c(15,10)\n",
    "non_manual_worker = c(20,30)\n",
    "manual_worker = c(5,20)\n",
    "\n",
    "df = data.frame(office_worker, non_manual_worker, manual_worker)"
   ]
  },
  {
   "cell_type": "code",
   "execution_count": 11,
   "metadata": {},
   "outputs": [
    {
     "data": {
      "text/html": [
       "<table>\n",
       "<thead><tr><th scope=col>sex</th><th scope=col>office_worker</th><th scope=col>non_manual_worker</th><th scope=col>manual_worker</th></tr></thead>\n",
       "<tbody>\n",
       "\t<tr><td>female   </td><td>0.3750000</td><td>0.5      </td><td>0.1250000</td></tr>\n",
       "\t<tr><td>male     </td><td>0.1666667</td><td>0.5      </td><td>0.3333333</td></tr>\n",
       "</tbody>\n",
       "</table>\n"
      ],
      "text/latex": [
       "\\begin{tabular}{r|llll}\n",
       " sex & office\\_worker & non\\_manual\\_worker & manual\\_worker\\\\\n",
       "\\hline\n",
       "\t female    & 0.3750000 & 0.5       & 0.1250000\\\\\n",
       "\t male      & 0.1666667 & 0.5       & 0.3333333\\\\\n",
       "\\end{tabular}\n"
      ],
      "text/markdown": [
       "\n",
       "sex | office_worker | non_manual_worker | manual_worker | \n",
       "|---|---|\n",
       "| female    | 0.3750000 | 0.5       | 0.1250000 | \n",
       "| male      | 0.1666667 | 0.5       | 0.3333333 | \n",
       "\n",
       "\n"
      ],
      "text/plain": [
       "  sex    office_worker non_manual_worker manual_worker\n",
       "1 female 0.3750000     0.5               0.1250000    \n",
       "2 male   0.1666667     0.5               0.3333333    "
      ]
     },
     "metadata": {},
     "output_type": "display_data"
    }
   ],
   "source": [
    "# Relative sex by employment, distributions\n",
    "office_worker = c(df[1,1]/rowSums(df)[1], df[2,1]/rowSums(df)[2])\n",
    "non_manual_worker = c(df[1,2]/rowSums(df)[1], df[2,2]/rowSums(df)[2])\n",
    "manual_worker = c(df[1,3]/rowSums(df)[1], df[2,3]/rowSums(df)[2])\n",
    "\n",
    "df = data.frame(sex, office_worker, non_manual_worker, manual_worker)\n",
    "df"
   ]
  },
  {
   "cell_type": "markdown",
   "metadata": {},
   "source": [
    "## (c)\n",
    "\n",
    "Determine the relative distribution of the sex for the non-manual workers."
   ]
  },
  {
   "cell_type": "code",
   "execution_count": 12,
   "metadata": {},
   "outputs": [],
   "source": [
    "sex = c(\"female\",\"male\")\n",
    "\n",
    "# Employment Status\n",
    "office_worker = c(15,10)\n",
    "non_manual_worker = c(20,30)\n",
    "manual_worker = c(5,20)"
   ]
  },
  {
   "cell_type": "code",
   "execution_count": 13,
   "metadata": {},
   "outputs": [
    {
     "data": {
      "text/html": [
       "<table>\n",
       "<thead><tr><th scope=col>sex</th><th scope=col>office_worker</th><th scope=col>non_manual_worker</th><th scope=col>manual_worker</th></tr></thead>\n",
       "<tbody>\n",
       "\t<tr><td>female</td><td>0.6   </td><td>0.4   </td><td>0.2   </td></tr>\n",
       "\t<tr><td>male  </td><td>0.4   </td><td>0.6   </td><td>0.8   </td></tr>\n",
       "</tbody>\n",
       "</table>\n"
      ],
      "text/latex": [
       "\\begin{tabular}{r|llll}\n",
       " sex & office\\_worker & non\\_manual\\_worker & manual\\_worker\\\\\n",
       "\\hline\n",
       "\t female & 0.6    & 0.4    & 0.2   \\\\\n",
       "\t male   & 0.4    & 0.6    & 0.8   \\\\\n",
       "\\end{tabular}\n"
      ],
      "text/markdown": [
       "\n",
       "sex | office_worker | non_manual_worker | manual_worker | \n",
       "|---|---|\n",
       "| female | 0.6    | 0.4    | 0.2    | \n",
       "| male   | 0.4    | 0.6    | 0.8    | \n",
       "\n",
       "\n"
      ],
      "text/plain": [
       "  sex    office_worker non_manual_worker manual_worker\n",
       "1 female 0.6           0.4               0.2          \n",
       "2 male   0.4           0.6               0.8          "
      ]
     },
     "metadata": {},
     "output_type": "display_data"
    }
   ],
   "source": [
    "# Relative employment by sex, distributions\n",
    "office_worker = c(office_worker[1]/sum(office_worker), office_worker[2]/sum(office_worker))\n",
    "non_manual_worker = c(non_manual_worker[1]/sum(non_manual_worker), non_manual_worker[2]/sum(non_manual_worker))\n",
    "manual_worker = c(manual_worker[1]/sum(manual_worker), manual_worker[2]/sum(manual_worker))\n",
    "\n",
    "df = data.frame(sex, office_worker, non_manual_worker, manual_worker)\n",
    "df"
   ]
  },
  {
   "cell_type": "markdown",
   "metadata": {},
   "source": [
    "# <a class=\"anchor\" id=\"3\"></a> 3.\n",
    "\n",
    "The following coeﬃcients are calculated by an economist for all variables of a data set with the help of a statistics program:\n",
    "\n",
    "A) arithmetic mean F) Mode B) Pearson correlation G) Range C) Interquartile range H) Standard deviation D) Covariance I) Variance E) Median \n",
    "\n",
    "Help the economist to ﬁnd out the coeﬃcient(s),\n",
    "\n",
    "### (a) that are a robust location parameter.\n",
    "\n",
    "* Median\n",
    "\n",
    "### (b) that are a robust dispersion parameter for numerically scaled variables.\n",
    "\n",
    "* Interquartile range\n",
    "\n",
    "### (c) that are unchanged after linear transformation in the form of y = x + b.\n",
    "\n",
    "* Pearson correlation\n",
    "* Range\n",
    "* Interquartile range\n",
    "* Standard deviation\n",
    "* Covariance\n",
    "* Variance"
   ]
  },
  {
   "cell_type": "markdown",
   "metadata": {},
   "source": [
    "# <a class=\"anchor\" id=\"4\"></a> 4. \n",
    "\n",
    "Age (X, in days) and lengths (Y , in mm) has been collected for a larva in a laboratory experiment. The collected data are the following:"
   ]
  },
  {
   "cell_type": "code",
   "execution_count": 14,
   "metadata": {},
   "outputs": [
    {
     "data": {
      "text/html": [
       "<table>\n",
       "<thead><tr><th scope=col>X</th><th scope=col>Y</th></tr></thead>\n",
       "<tbody>\n",
       "\t<tr><td>0  </td><td>1.1</td></tr>\n",
       "\t<tr><td>1  </td><td>1.6</td></tr>\n",
       "\t<tr><td>2  </td><td>2.1</td></tr>\n",
       "\t<tr><td>3  </td><td>2.4</td></tr>\n",
       "\t<tr><td>4  </td><td>2.8</td></tr>\n",
       "</tbody>\n",
       "</table>\n"
      ],
      "text/latex": [
       "\\begin{tabular}{r|ll}\n",
       " X & Y\\\\\n",
       "\\hline\n",
       "\t 0   & 1.1\\\\\n",
       "\t 1   & 1.6\\\\\n",
       "\t 2   & 2.1\\\\\n",
       "\t 3   & 2.4\\\\\n",
       "\t 4   & 2.8\\\\\n",
       "\\end{tabular}\n"
      ],
      "text/markdown": [
       "\n",
       "X | Y | \n",
       "|---|---|---|---|---|\n",
       "| 0   | 1.1 | \n",
       "| 1   | 1.6 | \n",
       "| 2   | 2.1 | \n",
       "| 3   | 2.4 | \n",
       "| 4   | 2.8 | \n",
       "\n",
       "\n"
      ],
      "text/plain": [
       "  X Y  \n",
       "1 0 1.1\n",
       "2 1 1.6\n",
       "3 2 2.1\n",
       "4 3 2.4\n",
       "5 4 2.8"
      ]
     },
     "metadata": {},
     "output_type": "display_data"
    }
   ],
   "source": [
    "X = c(0,1,2,3,4)  # Days\n",
    "Y = c(1.1,1.6,2.1,2.4,2.8)  # Lengths (mm)\n",
    "\n",
    "df = data.frame(X,Y)\n",
    "df"
   ]
  },
  {
   "cell_type": "code",
   "execution_count": 15,
   "metadata": {},
   "outputs": [
    {
     "data": {
      "text/html": [
       "0.995495472593952"
      ],
      "text/latex": [
       "0.995495472593952"
      ],
      "text/markdown": [
       "0.995495472593952"
      ],
      "text/plain": [
       "[1] 0.9954955"
      ]
     },
     "metadata": {},
     "output_type": "display_data"
    }
   ],
   "source": [
    "v_xx = sum((X - mean(X))^2)  # Not exactly variance, but denominators will get cancelled\n",
    "v_yy = sum((Y - mean(Y))^2)\n",
    "v_xy = sum((X - mean(X)) * (Y - mean(Y)))\n",
    "\n",
    "r = v_xy / (sqrt(v_yy * v_xx))\n",
    "r  # Pearson correlation coefficient"
   ]
  },
  {
   "cell_type": "markdown",
   "metadata": {},
   "source": [
    "Therefore, __strong positive correlation__. This is further emphasized in the scatterplot below:"
   ]
  },
  {
   "cell_type": "code",
   "execution_count": 16,
   "metadata": {},
   "outputs": [
    {
     "data": {
      "image/png": "[encoded data removed]",
      "text/plain": [
       "Plot with title “Larva Growth”"
      ]
     },
     "metadata": {},
     "output_type": "display_data"
    }
   ],
   "source": [
    "plot(df, main='Larva Growth', ylab='Larva length (mm)', xlab='Days')  # Scatterplot\n",
    "abline(lm(Y~X), col=\"red\")  # Regression line "
   ]
  }
 ],
 "metadata": {
  "kernelspec": {
   "display_name": "R",
   "language": "R",
   "name": "ir"
  },
  "language_info": {
   "codemirror_mode": "r",
   "file_extension": ".r",
   "mimetype": "text/x-r-source",
   "name": "R",
   "pygments_lexer": "r",
   "version": "3.4.4"
  }
 },
 "nbformat": 4,
 "nbformat_minor": 2
}
