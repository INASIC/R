{
 "cells": [
  {
   "cell_type": "markdown",
   "metadata": {},
   "source": [
    "# Statistics for Data Analysis: R Exercises 1\n",
    "\n",
    "In this practical we review the essentials to start with R programming and we learn to import simple datasets in R and to compute summary statistics and basic graphs.\n",
    "\n",
    "## Summary of R basics\n",
    "\n",
    "### Mathematical Operations:\n",
    "\n",
    "Exactly the same as Python"
   ]
  },
  {
   "cell_type": "code",
   "execution_count": 1,
   "metadata": {},
   "outputs": [
    {
     "data": {
      "text/html": [
       "5"
      ],
      "text/latex": [
       "5"
      ],
      "text/markdown": [
       "5"
      ],
      "text/plain": [
       "[1] 5"
      ]
     },
     "metadata": {},
     "output_type": "display_data"
    },
    {
     "data": {
      "text/html": [
       "6"
      ],
      "text/latex": [
       "6"
      ],
      "text/markdown": [
       "6"
      ],
      "text/plain": [
       "[1] 6"
      ]
     },
     "metadata": {},
     "output_type": "display_data"
    },
    {
     "data": {
      "text/html": [
       "12"
      ],
      "text/latex": [
       "12"
      ],
      "text/markdown": [
       "12"
      ],
      "text/plain": [
       "[1] 12"
      ]
     },
     "metadata": {},
     "output_type": "display_data"
    },
    {
     "data": {
      "text/html": [
       "4"
      ],
      "text/latex": [
       "4"
      ],
      "text/markdown": [
       "4"
      ],
      "text/plain": [
       "[1] 4"
      ]
     },
     "metadata": {},
     "output_type": "display_data"
    },
    {
     "data": {
      "text/html": [
       "1.4142135623731"
      ],
      "text/latex": [
       "1.4142135623731"
      ],
      "text/markdown": [
       "1.4142135623731"
      ],
      "text/plain": [
       "[1] 1.414214"
      ]
     },
     "metadata": {},
     "output_type": "display_data"
    },
    {
     "data": {
      "text/html": [
       "7.38905609893065"
      ],
      "text/latex": [
       "7.38905609893065"
      ],
      "text/markdown": [
       "7.38905609893065"
      ],
      "text/plain": [
       "[1] 7.389056"
      ]
     },
     "metadata": {},
     "output_type": "display_data"
    },
    {
     "data": {
      "text/html": [
       "8"
      ],
      "text/latex": [
       "8"
      ],
      "text/markdown": [
       "8"
      ],
      "text/plain": [
       "[1] 8"
      ]
     },
     "metadata": {},
     "output_type": "display_data"
    }
   ],
   "source": [
    "2+3\n",
    "2*3\n",
    "3*4\n",
    "8/2\n",
    "sqrt(2) # square root\n",
    "exp(2) # natural exponential\n",
    "2^3 # power"
   ]
  },
  {
   "cell_type": "markdown",
   "metadata": {},
   "source": [
    "### Defining Variables\n",
    "\n",
    "R either uses a left arrow, or equal sign, to assign values to variables."
   ]
  },
  {
   "cell_type": "code",
   "execution_count": 2,
   "metadata": {},
   "outputs": [
    {
     "data": {
      "text/html": [
       "3"
      ],
      "text/latex": [
       "3"
      ],
      "text/markdown": [
       "3"
      ],
      "text/plain": [
       "[1] 3"
      ]
     },
     "metadata": {},
     "output_type": "display_data"
    }
   ],
   "source": [
    "a<-1 \n",
    "b<-2\n",
    "a+b"
   ]
  },
  {
   "cell_type": "code",
   "execution_count": 3,
   "metadata": {},
   "outputs": [
    {
     "data": {
      "text/html": [
       "7"
      ],
      "text/latex": [
       "7"
      ],
      "text/markdown": [
       "7"
      ],
      "text/plain": [
       "[1] 7"
      ]
     },
     "metadata": {},
     "output_type": "display_data"
    }
   ],
   "source": [
    "a=5\n",
    "b=2\n",
    "a+b"
   ]
  },
  {
   "cell_type": "markdown",
   "metadata": {},
   "source": [
    "R variables are __untyped__, but the object they __reference__ is typed."
   ]
  },
  {
   "cell_type": "code",
   "execution_count": 4,
   "metadata": {},
   "outputs": [
    {
     "data": {
      "text/html": [
       "'double'"
      ],
      "text/latex": [
       "'double'"
      ],
      "text/markdown": [
       "'double'"
      ],
      "text/plain": [
       "[1] \"double\""
      ]
     },
     "metadata": {},
     "output_type": "display_data"
    }
   ],
   "source": [
    "typeof(a)"
   ]
  },
  {
   "cell_type": "markdown",
   "metadata": {},
   "source": [
    "### Dataframes\n",
    "\n",
    "Datasets in R can be stored either as ___vectors___ (__single variables__), or ___dataframes___ when dealing with __multiple variables__."
   ]
  },
  {
   "cell_type": "code",
   "execution_count": 5,
   "metadata": {},
   "outputs": [
    {
     "data": {
      "text/html": [
       "<ol class=list-inline>\n",
       "\t<li>5</li>\n",
       "\t<li>2</li>\n",
       "\t<li>6</li>\n",
       "\t<li>1</li>\n",
       "</ol>\n"
      ],
      "text/latex": [
       "\\begin{enumerate*}\n",
       "\\item 5\n",
       "\\item 2\n",
       "\\item 6\n",
       "\\item 1\n",
       "\\end{enumerate*}\n"
      ],
      "text/markdown": [
       "1. 5\n",
       "2. 2\n",
       "3. 6\n",
       "4. 1\n",
       "\n",
       "\n"
      ],
      "text/plain": [
       "[1] 5 2 6 1"
      ]
     },
     "metadata": {},
     "output_type": "display_data"
    },
    {
     "data": {
      "text/html": [
       "<ol class=list-inline>\n",
       "\t<li>'a'</li>\n",
       "\t<li>'b'</li>\n",
       "\t<li>'c'</li>\n",
       "\t<li>'d'</li>\n",
       "</ol>\n"
      ],
      "text/latex": [
       "\\begin{enumerate*}\n",
       "\\item 'a'\n",
       "\\item 'b'\n",
       "\\item 'c'\n",
       "\\item 'd'\n",
       "\\end{enumerate*}\n"
      ],
      "text/markdown": [
       "1. 'a'\n",
       "2. 'b'\n",
       "3. 'c'\n",
       "4. 'd'\n",
       "\n",
       "\n"
      ],
      "text/plain": [
       "[1] \"a\" \"b\" \"c\" \"d\""
      ]
     },
     "metadata": {},
     "output_type": "display_data"
    },
    {
     "data": {
      "text/html": [
       "<ol class=list-inline>\n",
       "\t<li>1</li>\n",
       "\t<li>2</li>\n",
       "\t<li>3</li>\n",
       "\t<li>4</li>\n",
       "</ol>\n"
      ],
      "text/latex": [
       "\\begin{enumerate*}\n",
       "\\item 1\n",
       "\\item 2\n",
       "\\item 3\n",
       "\\item 4\n",
       "\\end{enumerate*}\n"
      ],
      "text/markdown": [
       "1. 1\n",
       "2. 2\n",
       "3. 3\n",
       "4. 4\n",
       "\n",
       "\n"
      ],
      "text/plain": [
       "[1] 1 2 3 4"
      ]
     },
     "metadata": {},
     "output_type": "display_data"
    }
   ],
   "source": [
    "# Vector definition\n",
    "x<-c(5,2,6,1)\n",
    "y<-c('a','b','c','d') \n",
    "z<-1:4\n",
    "\n",
    "x\n",
    "y\n",
    "z"
   ]
  },
  {
   "cell_type": "markdown",
   "metadata": {},
   "source": [
    "__Vectors__ must contain objects of the __same datatype__. \n",
    "\n",
    "__Dataframes__ can include vectors of __different types__, but they must be of the __same length__, because each row is interpreted as an observation."
   ]
  },
  {
   "cell_type": "code",
   "execution_count": 6,
   "metadata": {},
   "outputs": [
    {
     "data": {
      "text/html": [
       "<table>\n",
       "<thead><tr><th scope=col>x</th><th scope=col>y</th><th scope=col>z</th></tr></thead>\n",
       "<tbody>\n",
       "\t<tr><td>5</td><td>a</td><td>1</td></tr>\n",
       "\t<tr><td>2</td><td>b</td><td>2</td></tr>\n",
       "\t<tr><td>6</td><td>c</td><td>3</td></tr>\n",
       "\t<tr><td>1</td><td>d</td><td>4</td></tr>\n",
       "</tbody>\n",
       "</table>\n"
      ],
      "text/latex": [
       "\\begin{tabular}{r|lll}\n",
       " x & y & z\\\\\n",
       "\\hline\n",
       "\t 5 & a & 1\\\\\n",
       "\t 2 & b & 2\\\\\n",
       "\t 6 & c & 3\\\\\n",
       "\t 1 & d & 4\\\\\n",
       "\\end{tabular}\n"
      ],
      "text/markdown": [
       "\n",
       "x | y | z | \n",
       "|---|---|---|---|\n",
       "| 5 | a | 1 | \n",
       "| 2 | b | 2 | \n",
       "| 6 | c | 3 | \n",
       "| 1 | d | 4 | \n",
       "\n",
       "\n"
      ],
      "text/plain": [
       "  x y z\n",
       "1 5 a 1\n",
       "2 2 b 2\n",
       "3 6 c 3\n",
       "4 1 d 4"
      ]
     },
     "metadata": {},
     "output_type": "display_data"
    }
   ],
   "source": [
    "data<-data.frame(x,y,z)  # Create df\n",
    "head(data)  # Peek at first rows of df "
   ]
  },
  {
   "cell_type": "code",
   "execution_count": 7,
   "metadata": {},
   "outputs": [
    {
     "data": {
      "text/html": [
       "a\n",
       "<details>\n",
       "\t<summary style=display:list-item;cursor:pointer>\n",
       "\t\t<strong>Levels</strong>:\n",
       "\t</summary>\n",
       "\t<ol class=list-inline>\n",
       "\t\t<li>'a'</li>\n",
       "\t\t<li>'b'</li>\n",
       "\t\t<li>'c'</li>\n",
       "\t\t<li>'d'</li>\n",
       "\t</ol>\n",
       "</details>"
      ],
      "text/latex": [
       "a\n",
       "\\emph{Levels}: \\begin{enumerate*}\n",
       "\\item 'a'\n",
       "\\item 'b'\n",
       "\\item 'c'\n",
       "\\item 'd'\n",
       "\\end{enumerate*}\n"
      ],
      "text/markdown": [
       "a\n",
       "**Levels**: 1. 'a'\n",
       "2. 'b'\n",
       "3. 'c'\n",
       "4. 'd'\n",
       "\n",
       "\n"
      ],
      "text/plain": [
       "[1] a\n",
       "Levels: a b c d"
      ]
     },
     "metadata": {},
     "output_type": "display_data"
    }
   ],
   "source": [
    "data[1,2]  # Access one element of dataframe"
   ]
  },
  {
   "cell_type": "code",
   "execution_count": 8,
   "metadata": {},
   "outputs": [
    {
     "data": {
      "text/html": [
       "<table>\n",
       "<thead><tr><th scope=col>x</th><th scope=col>y</th><th scope=col>z</th></tr></thead>\n",
       "<tbody>\n",
       "\t<tr><td>5</td><td>a</td><td>1</td></tr>\n",
       "</tbody>\n",
       "</table>\n"
      ],
      "text/latex": [
       "\\begin{tabular}{r|lll}\n",
       " x & y & z\\\\\n",
       "\\hline\n",
       "\t 5 & a & 1\\\\\n",
       "\\end{tabular}\n"
      ],
      "text/markdown": [
       "\n",
       "x | y | z | \n",
       "|---|\n",
       "| 5 | a | 1 | \n",
       "\n",
       "\n"
      ],
      "text/plain": [
       "  x y z\n",
       "1 5 a 1"
      ]
     },
     "metadata": {},
     "output_type": "display_data"
    }
   ],
   "source": [
    "data[1,]  # Access 1st row (observation)"
   ]
  },
  {
   "cell_type": "code",
   "execution_count": 9,
   "metadata": {},
   "outputs": [
    {
     "data": {
      "text/html": [
       "<ol class=list-inline>\n",
       "\t<li>a</li>\n",
       "\t<li>b</li>\n",
       "\t<li>c</li>\n",
       "\t<li>d</li>\n",
       "</ol>\n",
       "\n",
       "<details>\n",
       "\t<summary style=display:list-item;cursor:pointer>\n",
       "\t\t<strong>Levels</strong>:\n",
       "\t</summary>\n",
       "\t<ol class=list-inline>\n",
       "\t\t<li>'a'</li>\n",
       "\t\t<li>'b'</li>\n",
       "\t\t<li>'c'</li>\n",
       "\t\t<li>'d'</li>\n",
       "\t</ol>\n",
       "</details>"
      ],
      "text/latex": [
       "\\begin{enumerate*}\n",
       "\\item a\n",
       "\\item b\n",
       "\\item c\n",
       "\\item d\n",
       "\\end{enumerate*}\n",
       "\n",
       "\\emph{Levels}: \\begin{enumerate*}\n",
       "\\item 'a'\n",
       "\\item 'b'\n",
       "\\item 'c'\n",
       "\\item 'd'\n",
       "\\end{enumerate*}\n"
      ],
      "text/markdown": [
       "1. a\n",
       "2. b\n",
       "3. c\n",
       "4. d\n",
       "\n",
       "\n",
       "\n",
       "**Levels**: 1. 'a'\n",
       "2. 'b'\n",
       "3. 'c'\n",
       "4. 'd'\n",
       "\n",
       "\n"
      ],
      "text/plain": [
       "[1] a b c d\n",
       "Levels: a b c d"
      ]
     },
     "metadata": {},
     "output_type": "display_data"
    }
   ],
   "source": [
    "data[,2]  # 2nd Column (variable)"
   ]
  },
  {
   "cell_type": "markdown",
   "metadata": {},
   "source": [
    "You can also access elements using the variable (__column__) names:"
   ]
  },
  {
   "cell_type": "code",
   "execution_count": 10,
   "metadata": {},
   "outputs": [
    {
     "data": {
      "text/html": [
       "<ol class=list-inline>\n",
       "\t<li>5</li>\n",
       "\t<li>2</li>\n",
       "\t<li>6</li>\n",
       "\t<li>1</li>\n",
       "</ol>\n"
      ],
      "text/latex": [
       "\\begin{enumerate*}\n",
       "\\item 5\n",
       "\\item 2\n",
       "\\item 6\n",
       "\\item 1\n",
       "\\end{enumerate*}\n"
      ],
      "text/markdown": [
       "1. 5\n",
       "2. 2\n",
       "3. 6\n",
       "4. 1\n",
       "\n",
       "\n"
      ],
      "text/plain": [
       "[1] 5 2 6 1"
      ]
     },
     "metadata": {},
     "output_type": "display_data"
    }
   ],
   "source": [
    "data$x"
   ]
  },
  {
   "cell_type": "markdown",
   "metadata": {},
   "source": [
    "### Built-in Functions\n",
    "\n",
    "Here are some useful functions native to R:"
   ]
  },
  {
   "cell_type": "code",
   "execution_count": 11,
   "metadata": {},
   "outputs": [
    {
     "data": {
      "text/html": [
       "3.5"
      ],
      "text/latex": [
       "3.5"
      ],
      "text/markdown": [
       "3.5"
      ],
      "text/plain": [
       "[1] 3.5"
      ]
     },
     "metadata": {},
     "output_type": "display_data"
    },
    {
     "data": {
      "text/html": [
       "14"
      ],
      "text/latex": [
       "14"
      ],
      "text/markdown": [
       "14"
      ],
      "text/plain": [
       "[1] 14"
      ]
     },
     "metadata": {},
     "output_type": "display_data"
    },
    {
     "data": {
      "text/html": [
       "6"
      ],
      "text/latex": [
       "6"
      ],
      "text/markdown": [
       "6"
      ],
      "text/plain": [
       "[1] 6"
      ]
     },
     "metadata": {},
     "output_type": "display_data"
    },
    {
     "data": {
      "text/html": [
       "2.38047614284762"
      ],
      "text/latex": [
       "2.38047614284762"
      ],
      "text/markdown": [
       "2.38047614284762"
      ],
      "text/plain": [
       "[1] 2.380476"
      ]
     },
     "metadata": {},
     "output_type": "display_data"
    },
    {
     "data": {
      "text/plain": [
       "y\n",
       "a b c d \n",
       "1 1 1 1 "
      ]
     },
     "metadata": {},
     "output_type": "display_data"
    },
    {
     "data": {
      "image/png": "[encoded data removed]",
      "text/plain": [
       "Plot with title “Histogram of x”"
      ]
     },
     "metadata": {},
     "output_type": "display_data"
    },
    {
     "data": {
      "image/png": "[encoded data removed]",
      "text/plain": [
       "plot without title"
      ]
     },
     "metadata": {},
     "output_type": "display_data"
    }
   ],
   "source": [
    "mean(x)\n",
    "sum(x)\n",
    "max(x)\n",
    "sd(x)\n",
    "table(y)  # Frequency table\n",
    "hist(x)\n",
    "pie(table(y))"
   ]
  },
  {
   "cell_type": "markdown",
   "metadata": {},
   "source": [
    "## Data Import and Export\n",
    "\n",
    "Reading in data can be done using the ```read``` class of functions."
   ]
  },
  {
   "cell_type": "code",
   "execution_count": 12,
   "metadata": {},
   "outputs": [],
   "source": [
    "data = read.csv('data/mussels.csv')"
   ]
  },
  {
   "cell_type": "code",
   "execution_count": 13,
   "metadata": {},
   "outputs": [
    {
     "data": {
      "text/html": [
       "<table>\n",
       "<thead><tr><th scope=col>Mass</th><th scope=col>Height</th><th scope=col>Width</th><th scope=col>Length</th></tr></thead>\n",
       "<tbody>\n",
       "\t<tr><td>498.1267</td><td>158     </td><td>68      </td><td>318     </td></tr>\n",
       "\t<tr><td>440.6753</td><td>148     </td><td>56      </td><td>312     </td></tr>\n",
       "\t<tr><td>286.9056</td><td>124     </td><td>46      </td><td>265     </td></tr>\n",
       "\t<tr><td>170.7398</td><td>104     </td><td>38      </td><td>222     </td></tr>\n",
       "\t<tr><td>379.1426</td><td>143     </td><td>51      </td><td>274     </td></tr>\n",
       "\t<tr><td>166.5419</td><td> 99     </td><td>35      </td><td>216     </td></tr>\n",
       "</tbody>\n",
       "</table>\n"
      ],
      "text/latex": [
       "\\begin{tabular}{r|llll}\n",
       " Mass & Height & Width & Length\\\\\n",
       "\\hline\n",
       "\t 498.1267 & 158      & 68       & 318     \\\\\n",
       "\t 440.6753 & 148      & 56       & 312     \\\\\n",
       "\t 286.9056 & 124      & 46       & 265     \\\\\n",
       "\t 170.7398 & 104      & 38       & 222     \\\\\n",
       "\t 379.1426 & 143      & 51       & 274     \\\\\n",
       "\t 166.5419 &  99      & 35       & 216     \\\\\n",
       "\\end{tabular}\n"
      ],
      "text/markdown": [
       "\n",
       "Mass | Height | Width | Length | \n",
       "|---|---|---|---|---|---|\n",
       "| 498.1267 | 158      | 68       | 318      | \n",
       "| 440.6753 | 148      | 56       | 312      | \n",
       "| 286.9056 | 124      | 46       | 265      | \n",
       "| 170.7398 | 104      | 38       | 222      | \n",
       "| 379.1426 | 143      | 51       | 274      | \n",
       "| 166.5419 |  99      | 35       | 216      | \n",
       "\n",
       "\n"
      ],
      "text/plain": [
       "  Mass     Height Width Length\n",
       "1 498.1267 158    68    318   \n",
       "2 440.6753 148    56    312   \n",
       "3 286.9056 124    46    265   \n",
       "4 170.7398 104    38    222   \n",
       "5 379.1426 143    51    274   \n",
       "6 166.5419  99    35    216   "
      ]
     },
     "metadata": {},
     "output_type": "display_data"
    }
   ],
   "source": [
    "head(data)"
   ]
  },
  {
   "cell_type": "markdown",
   "metadata": {},
   "source": [
    "## Help\n",
    "\n",
    "The ```help()``` function will conveniently look up documentation for any __string__ within its parentheses."
   ]
  },
  {
   "cell_type": "code",
   "execution_count": 14,
   "metadata": {},
   "outputs": [],
   "source": [
    "help(\"mean\")"
   ]
  },
  {
   "cell_type": "markdown",
   "metadata": {},
   "source": [
    "# Exercises\n",
    "\n",
    "2. Create a dataframe using the data provided in the worksheet."
   ]
  },
  {
   "cell_type": "code",
   "execution_count": 15,
   "metadata": {},
   "outputs": [],
   "source": [
    "# First, create vectors (columns)\n",
    "country <-c ('Belgium','Denmark','France','GB','Ireland','Italy','Luxembourg')\n",
    "inflation_rate <- c(2.8,1.2,2.1,1.6,1.5,4.6,3.6)\n",
    "unemployment_rate <- c(9.4,10.4,10.8,10.5,18.4,11.1,2.6)"
   ]
  },
  {
   "cell_type": "code",
   "execution_count": 16,
   "metadata": {},
   "outputs": [],
   "source": [
    "# Create dataframe from previous vectors\n",
    "df <- data.frame(country,inflation_rate,unemployment_rate)"
   ]
  },
  {
   "cell_type": "code",
   "execution_count": 17,
   "metadata": {},
   "outputs": [
    {
     "data": {
      "text/html": [
       "<table>\n",
       "<thead><tr><th scope=col>country</th><th scope=col>inflation_rate</th><th scope=col>unemployment_rate</th></tr></thead>\n",
       "<tbody>\n",
       "\t<tr><td>Belgium</td><td>2.8    </td><td> 9.4   </td></tr>\n",
       "\t<tr><td>Denmark</td><td>1.2    </td><td>10.4   </td></tr>\n",
       "\t<tr><td>France </td><td>2.1    </td><td>10.8   </td></tr>\n",
       "\t<tr><td>GB     </td><td>1.6    </td><td>10.5   </td></tr>\n",
       "\t<tr><td>Ireland</td><td>1.5    </td><td>18.4   </td></tr>\n",
       "\t<tr><td>Italy  </td><td>4.6    </td><td>11.1   </td></tr>\n",
       "</tbody>\n",
       "</table>\n"
      ],
      "text/latex": [
       "\\begin{tabular}{r|lll}\n",
       " country & inflation\\_rate & unemployment\\_rate\\\\\n",
       "\\hline\n",
       "\t Belgium & 2.8     &  9.4   \\\\\n",
       "\t Denmark & 1.2     & 10.4   \\\\\n",
       "\t France  & 2.1     & 10.8   \\\\\n",
       "\t GB      & 1.6     & 10.5   \\\\\n",
       "\t Ireland & 1.5     & 18.4   \\\\\n",
       "\t Italy   & 4.6     & 11.1   \\\\\n",
       "\\end{tabular}\n"
      ],
      "text/markdown": [
       "\n",
       "country | inflation_rate | unemployment_rate | \n",
       "|---|---|---|---|---|---|\n",
       "| Belgium | 2.8     |  9.4    | \n",
       "| Denmark | 1.2     | 10.4    | \n",
       "| France  | 2.1     | 10.8    | \n",
       "| GB      | 1.6     | 10.5    | \n",
       "| Ireland | 1.5     | 18.4    | \n",
       "| Italy   | 4.6     | 11.1    | \n",
       "\n",
       "\n"
      ],
      "text/plain": [
       "  country inflation_rate unemployment_rate\n",
       "1 Belgium 2.8             9.4             \n",
       "2 Denmark 1.2            10.4             \n",
       "3 France  2.1            10.8             \n",
       "4 GB      1.6            10.5             \n",
       "5 Ireland 1.5            18.4             \n",
       "6 Italy   4.6            11.1             "
      ]
     },
     "metadata": {},
     "output_type": "display_data"
    }
   ],
   "source": [
    "# Peek at top of dataframe\n",
    "head(df)"
   ]
  },
  {
   "cell_type": "markdown",
   "metadata": {},
   "source": [
    "You can filter dataframes using the the using ```subset()``` function, and ```select=``` option to specify which columns to filter. If multiple, provide the columns as a vector.\n",
    " \n",
    "### Inflation Rate Descriptive Statistics"
   ]
  },
  {
   "cell_type": "code",
   "execution_count": 18,
   "metadata": {},
   "outputs": [
    {
     "data": {
      "text/html": [
       "<table>\n",
       "<thead><tr><th></th><th scope=col>country</th><th scope=col>inflation_rate</th></tr></thead>\n",
       "<tbody>\n",
       "\t<tr><th scope=row>6</th><td>Italy</td><td>4.6  </td></tr>\n",
       "</tbody>\n",
       "</table>\n"
      ],
      "text/latex": [
       "\\begin{tabular}{r|ll}\n",
       "  & country & inflation\\_rate\\\\\n",
       "\\hline\n",
       "\t6 & Italy & 4.6  \\\\\n",
       "\\end{tabular}\n"
      ],
      "text/markdown": [
       "\n",
       "| <!--/--> | country | inflation_rate | \n",
       "|---|\n",
       "| 6 | Italy | 4.6   | \n",
       "\n",
       "\n"
      ],
      "text/plain": [
       "  country inflation_rate\n",
       "6 Italy   4.6           "
      ]
     },
     "metadata": {},
     "output_type": "display_data"
    }
   ],
   "source": [
    "# Country with highest inflation rate\n",
    "subset(df,inflation_rate==max(inflation_rate),select=c(country,inflation_rate))"
   ]
  },
  {
   "cell_type": "code",
   "execution_count": 19,
   "metadata": {},
   "outputs": [
    {
     "data": {
      "text/html": [
       "<table>\n",
       "<thead><tr><th></th><th scope=col>country</th><th scope=col>inflation_rate</th></tr></thead>\n",
       "<tbody>\n",
       "\t<tr><th scope=row>2</th><td>Denmark</td><td>1.2    </td></tr>\n",
       "</tbody>\n",
       "</table>\n"
      ],
      "text/latex": [
       "\\begin{tabular}{r|ll}\n",
       "  & country & inflation\\_rate\\\\\n",
       "\\hline\n",
       "\t2 & Denmark & 1.2    \\\\\n",
       "\\end{tabular}\n"
      ],
      "text/markdown": [
       "\n",
       "| <!--/--> | country | inflation_rate | \n",
       "|---|\n",
       "| 2 | Denmark | 1.2     | \n",
       "\n",
       "\n"
      ],
      "text/plain": [
       "  country inflation_rate\n",
       "2 Denmark 1.2           "
      ]
     },
     "metadata": {},
     "output_type": "display_data"
    }
   ],
   "source": [
    "# Minimum inflation rate\n",
    "subset(df,inflation_rate==min(inflation_rate),select=c(country,inflation_rate))"
   ]
  },
  {
   "cell_type": "code",
   "execution_count": 20,
   "metadata": {},
   "outputs": [
    {
     "data": {
      "text/html": [
       "3.4"
      ],
      "text/latex": [
       "3.4"
      ],
      "text/markdown": [
       "3.4"
      ],
      "text/plain": [
       "[1] 3.4"
      ]
     },
     "metadata": {},
     "output_type": "display_data"
    }
   ],
   "source": [
    "# Range of Inflation rate\n",
    "max(df$inflation_rate) - min(df$inflation_rate)"
   ]
  },
  {
   "cell_type": "code",
   "execution_count": 21,
   "metadata": {},
   "outputs": [
    {
     "data": {
      "text/html": [
       "<table>\n",
       "<thead><tr><th></th><th scope=col>country</th><th scope=col>inflation_rate</th></tr></thead>\n",
       "<tbody>\n",
       "\t<tr><th scope=row>3</th><td>France</td><td>2.1   </td></tr>\n",
       "</tbody>\n",
       "</table>\n"
      ],
      "text/latex": [
       "\\begin{tabular}{r|ll}\n",
       "  & country & inflation\\_rate\\\\\n",
       "\\hline\n",
       "\t3 & France & 2.1   \\\\\n",
       "\\end{tabular}\n"
      ],
      "text/markdown": [
       "\n",
       "| <!--/--> | country | inflation_rate | \n",
       "|---|\n",
       "| 3 | France | 2.1    | \n",
       "\n",
       "\n"
      ],
      "text/plain": [
       "  country inflation_rate\n",
       "3 France  2.1           "
      ]
     },
     "metadata": {},
     "output_type": "display_data"
    }
   ],
   "source": [
    "# Median inflation rate\n",
    "subset(df,inflation_rate==median(inflation_rate),select=c(country,inflation_rate))"
   ]
  },
  {
   "cell_type": "code",
   "execution_count": 22,
   "metadata": {},
   "outputs": [
    {
     "data": {
      "text/html": [
       "1.65"
      ],
      "text/latex": [
       "1.65"
      ],
      "text/markdown": [
       "1.65"
      ],
      "text/plain": [
       "[1] 1.65"
      ]
     },
     "metadata": {},
     "output_type": "display_data"
    }
   ],
   "source": [
    "# Interquartile Range of inflation rate\n",
    "IQR(df$inflation_rate)"
   ]
  },
  {
   "cell_type": "code",
   "execution_count": 23,
   "metadata": {},
   "outputs": [
    {
     "data": {
      "text/html": [
       "2.48571428571429"
      ],
      "text/latex": [
       "2.48571428571429"
      ],
      "text/markdown": [
       "2.48571428571429"
      ],
      "text/plain": [
       "[1] 2.485714"
      ]
     },
     "metadata": {},
     "output_type": "display_data"
    }
   ],
   "source": [
    "# Mean of inflation rate\n",
    "mean(df$inflation_rate)"
   ]
  },
  {
   "cell_type": "code",
   "execution_count": 24,
   "metadata": {},
   "outputs": [
    {
     "data": {
      "text/html": [
       "1.56142857142857"
      ],
      "text/latex": [
       "1.56142857142857"
      ],
      "text/markdown": [
       "1.56142857142857"
      ],
      "text/plain": [
       "[1] 1.561429"
      ]
     },
     "metadata": {},
     "output_type": "display_data"
    }
   ],
   "source": [
    "# Variance of inflation rate\n",
    "var(df$inflation_rate)"
   ]
  },
  {
   "cell_type": "code",
   "execution_count": 25,
   "metadata": {},
   "outputs": [
    {
     "data": {
      "text/html": [
       "1.24957135507684"
      ],
      "text/latex": [
       "1.24957135507684"
      ],
      "text/markdown": [
       "1.24957135507684"
      ],
      "text/plain": [
       "[1] 1.249571"
      ]
     },
     "metadata": {},
     "output_type": "display_data"
    }
   ],
   "source": [
    "# Standard deviation of inflation rate\n",
    "sd(df$inflation_rate)"
   ]
  },
  {
   "cell_type": "markdown",
   "metadata": {},
   "source": [
    "Now, let's investigate the __unemployment rate__. "
   ]
  },
  {
   "cell_type": "code",
   "execution_count": 26,
   "metadata": {},
   "outputs": [
    {
     "data": {
      "text/html": [
       "<table>\n",
       "<thead><tr><th></th><th scope=col>country</th><th scope=col>unemployment_rate</th></tr></thead>\n",
       "<tbody>\n",
       "\t<tr><th scope=row>5</th><td>Ireland</td><td>18.4   </td></tr>\n",
       "</tbody>\n",
       "</table>\n"
      ],
      "text/latex": [
       "\\begin{tabular}{r|ll}\n",
       "  & country & unemployment\\_rate\\\\\n",
       "\\hline\n",
       "\t5 & Ireland & 18.4   \\\\\n",
       "\\end{tabular}\n"
      ],
      "text/markdown": [
       "\n",
       "| <!--/--> | country | unemployment_rate | \n",
       "|---|\n",
       "| 5 | Ireland | 18.4    | \n",
       "\n",
       "\n"
      ],
      "text/plain": [
       "  country unemployment_rate\n",
       "5 Ireland 18.4             "
      ]
     },
     "metadata": {},
     "output_type": "display_data"
    }
   ],
   "source": [
    "# Country with the highest unemployment rate\n",
    "subset(df,unemployment_rate==max(unemployment_rate),select=c(country,unemployment_rate))"
   ]
  },
  {
   "cell_type": "code",
   "execution_count": 27,
   "metadata": {},
   "outputs": [
    {
     "data": {
      "text/html": [
       "<table>\n",
       "<thead><tr><th></th><th scope=col>country</th><th scope=col>unemployment_rate</th></tr></thead>\n",
       "<tbody>\n",
       "\t<tr><th scope=row>7</th><td>Luxembourg</td><td>2.6       </td></tr>\n",
       "</tbody>\n",
       "</table>\n"
      ],
      "text/latex": [
       "\\begin{tabular}{r|ll}\n",
       "  & country & unemployment\\_rate\\\\\n",
       "\\hline\n",
       "\t7 & Luxembourg & 2.6       \\\\\n",
       "\\end{tabular}\n"
      ],
      "text/markdown": [
       "\n",
       "| <!--/--> | country | unemployment_rate | \n",
       "|---|\n",
       "| 7 | Luxembourg | 2.6        | \n",
       "\n",
       "\n"
      ],
      "text/plain": [
       "  country    unemployment_rate\n",
       "7 Luxembourg 2.6              "
      ]
     },
     "metadata": {},
     "output_type": "display_data"
    }
   ],
   "source": [
    "# Country with the lowest unemployment rate\n",
    "subset(df,unemployment_rate==min(unemployment_rate),select=c(country,unemployment_rate))"
   ]
  },
  {
   "cell_type": "code",
   "execution_count": 28,
   "metadata": {},
   "outputs": [
    {
     "data": {
      "text/html": [
       "15.8"
      ],
      "text/latex": [
       "15.8"
      ],
      "text/markdown": [
       "15.8"
      ],
      "text/plain": [
       "[1] 15.8"
      ]
     },
     "metadata": {},
     "output_type": "display_data"
    }
   ],
   "source": [
    "# Range of unemployment rate\n",
    "max(df$unemployment_rate) - min(df$unemployment_rate)"
   ]
  },
  {
   "cell_type": "code",
   "execution_count": 29,
   "metadata": {},
   "outputs": [
    {
     "data": {
      "text/html": [
       "<table>\n",
       "<thead><tr><th></th><th scope=col>country</th><th scope=col>unemployment_rate</th></tr></thead>\n",
       "<tbody>\n",
       "\t<tr><th scope=row>4</th><td>GB  </td><td>10.5</td></tr>\n",
       "</tbody>\n",
       "</table>\n"
      ],
      "text/latex": [
       "\\begin{tabular}{r|ll}\n",
       "  & country & unemployment\\_rate\\\\\n",
       "\\hline\n",
       "\t4 & GB   & 10.5\\\\\n",
       "\\end{tabular}\n"
      ],
      "text/markdown": [
       "\n",
       "| <!--/--> | country | unemployment_rate | \n",
       "|---|\n",
       "| 4 | GB   | 10.5 | \n",
       "\n",
       "\n"
      ],
      "text/plain": [
       "  country unemployment_rate\n",
       "4 GB      10.5             "
      ]
     },
     "metadata": {},
     "output_type": "display_data"
    }
   ],
   "source": [
    "# Median unemployment rate\n",
    "subset(df,unemployment_rate==median(unemployment_rate),select=c(country,unemployment_rate))"
   ]
  },
  {
   "cell_type": "markdown",
   "metadata": {},
   "source": [
    "# 3. Mussels\n",
    "\n",
    "Plot appropriate graphs to represent the __distribution__ of the __Mass__ variable. "
   ]
  },
  {
   "cell_type": "code",
   "execution_count": 30,
   "metadata": {},
   "outputs": [],
   "source": [
    "data<-read.csv(\"data/mussels.csv\",header=TRUE)"
   ]
  },
  {
   "cell_type": "code",
   "execution_count": 31,
   "metadata": {},
   "outputs": [
    {
     "data": {
      "text/html": [
       "<table>\n",
       "<thead><tr><th scope=col>Mass</th><th scope=col>Height</th><th scope=col>Width</th><th scope=col>Length</th></tr></thead>\n",
       "<tbody>\n",
       "\t<tr><td>498.1267</td><td>158     </td><td>68      </td><td>318     </td></tr>\n",
       "\t<tr><td>440.6753</td><td>148     </td><td>56      </td><td>312     </td></tr>\n",
       "\t<tr><td>286.9056</td><td>124     </td><td>46      </td><td>265     </td></tr>\n",
       "\t<tr><td>170.7398</td><td>104     </td><td>38      </td><td>222     </td></tr>\n",
       "\t<tr><td>379.1426</td><td>143     </td><td>51      </td><td>274     </td></tr>\n",
       "\t<tr><td>166.5419</td><td> 99     </td><td>35      </td><td>216     </td></tr>\n",
       "</tbody>\n",
       "</table>\n"
      ],
      "text/latex": [
       "\\begin{tabular}{r|llll}\n",
       " Mass & Height & Width & Length\\\\\n",
       "\\hline\n",
       "\t 498.1267 & 158      & 68       & 318     \\\\\n",
       "\t 440.6753 & 148      & 56       & 312     \\\\\n",
       "\t 286.9056 & 124      & 46       & 265     \\\\\n",
       "\t 170.7398 & 104      & 38       & 222     \\\\\n",
       "\t 379.1426 & 143      & 51       & 274     \\\\\n",
       "\t 166.5419 &  99      & 35       & 216     \\\\\n",
       "\\end{tabular}\n"
      ],
      "text/markdown": [
       "\n",
       "Mass | Height | Width | Length | \n",
       "|---|---|---|---|---|---|\n",
       "| 498.1267 | 158      | 68       | 318      | \n",
       "| 440.6753 | 148      | 56       | 312      | \n",
       "| 286.9056 | 124      | 46       | 265      | \n",
       "| 170.7398 | 104      | 38       | 222      | \n",
       "| 379.1426 | 143      | 51       | 274      | \n",
       "| 166.5419 |  99      | 35       | 216      | \n",
       "\n",
       "\n"
      ],
      "text/plain": [
       "  Mass     Height Width Length\n",
       "1 498.1267 158    68    318   \n",
       "2 440.6753 148    56    312   \n",
       "3 286.9056 124    46    265   \n",
       "4 170.7398 104    38    222   \n",
       "5 379.1426 143    51    274   \n",
       "6 166.5419  99    35    216   "
      ]
     },
     "metadata": {},
     "output_type": "display_data"
    }
   ],
   "source": [
    "head(data)"
   ]
  },
  {
   "cell_type": "code",
   "execution_count": 43,
   "metadata": {},
   "outputs": [],
   "source": [
    "help(hist)"
   ]
  },
  {
   "cell_type": "code",
   "execution_count": 32,
   "metadata": {},
   "outputs": [
    {
     "data": {
      "image/png": "[encoded data removed]",
      "text/plain": [
       "Plot with title “Histogram of mussel_mass”"
      ]
     },
     "metadata": {},
     "output_type": "display_data"
    }
   ],
   "source": [
    "mussel_mass = data$Mass\n",
    "hist(mussel_mass)"
   ]
  },
  {
   "cell_type": "code",
   "execution_count": 33,
   "metadata": {},
   "outputs": [
    {
     "data": {
      "image/png": "[encoded data removed]",
      "text/plain": [
       "plot without title"
      ]
     },
     "metadata": {},
     "output_type": "display_data"
    }
   ],
   "source": [
    "boxplot(mussel_mass)"
   ]
  },
  {
   "cell_type": "code",
   "execution_count": 68,
   "metadata": {},
   "outputs": [
    {
     "data": {
      "image/png": "[encoded data removed]",
      "text/plain": [
       "Plot with title “ecdf(mussel_mass)”"
      ]
     },
     "metadata": {},
     "output_type": "display_data"
    }
   ],
   "source": [
    "# Empirical Cumulative Density Function\n",
    "plot(ecdf(mussel_mass))"
   ]
  },
  {
   "cell_type": "markdown",
   "metadata": {},
   "source": [
    "## Predicting Mussel Mass\n",
    "\n",
    "As an extra piece of work, let's try to create a statistical model from scratch which can predict mussel mass."
   ]
  },
  {
   "cell_type": "code",
   "execution_count": 55,
   "metadata": {},
   "outputs": [
    {
     "data": {
      "text/html": [
       "<table>\n",
       "<thead><tr><th scope=col>Mass</th></tr></thead>\n",
       "<tbody>\n",
       "\t<tr><td>498.1267</td></tr>\n",
       "\t<tr><td>440.6753</td></tr>\n",
       "\t<tr><td>286.9056</td></tr>\n",
       "\t<tr><td>170.7398</td></tr>\n",
       "\t<tr><td>379.1426</td></tr>\n",
       "\t<tr><td>166.5419</td></tr>\n",
       "</tbody>\n",
       "</table>\n"
      ],
      "text/latex": [
       "\\begin{tabular}{r|l}\n",
       " Mass\\\\\n",
       "\\hline\n",
       "\t 498.1267\\\\\n",
       "\t 440.6753\\\\\n",
       "\t 286.9056\\\\\n",
       "\t 170.7398\\\\\n",
       "\t 379.1426\\\\\n",
       "\t 166.5419\\\\\n",
       "\\end{tabular}\n"
      ],
      "text/markdown": [
       "\n",
       "Mass | \n",
       "|---|---|---|---|---|---|\n",
       "| 498.1267 | \n",
       "| 440.6753 | \n",
       "| 286.9056 | \n",
       "| 170.7398 | \n",
       "| 379.1426 | \n",
       "| 166.5419 | \n",
       "\n",
       "\n"
      ],
      "text/plain": [
       "  Mass    \n",
       "1 498.1267\n",
       "2 440.6753\n",
       "3 286.9056\n",
       "4 170.7398\n",
       "5 379.1426\n",
       "6 166.5419"
      ]
     },
     "metadata": {},
     "output_type": "display_data"
    },
    {
     "data": {
      "text/html": [
       "<table>\n",
       "<thead><tr><th scope=col>Height</th><th scope=col>Width</th><th scope=col>Length</th></tr></thead>\n",
       "<tbody>\n",
       "\t<tr><td>158</td><td>68 </td><td>318</td></tr>\n",
       "\t<tr><td>148</td><td>56 </td><td>312</td></tr>\n",
       "\t<tr><td>124</td><td>46 </td><td>265</td></tr>\n",
       "\t<tr><td>104</td><td>38 </td><td>222</td></tr>\n",
       "\t<tr><td>143</td><td>51 </td><td>274</td></tr>\n",
       "\t<tr><td> 99</td><td>35 </td><td>216</td></tr>\n",
       "</tbody>\n",
       "</table>\n"
      ],
      "text/latex": [
       "\\begin{tabular}{r|lll}\n",
       " Height & Width & Length\\\\\n",
       "\\hline\n",
       "\t 158 & 68  & 318\\\\\n",
       "\t 148 & 56  & 312\\\\\n",
       "\t 124 & 46  & 265\\\\\n",
       "\t 104 & 38  & 222\\\\\n",
       "\t 143 & 51  & 274\\\\\n",
       "\t  99 & 35  & 216\\\\\n",
       "\\end{tabular}\n"
      ],
      "text/markdown": [
       "\n",
       "Height | Width | Length | \n",
       "|---|---|---|---|---|---|\n",
       "| 158 | 68  | 318 | \n",
       "| 148 | 56  | 312 | \n",
       "| 124 | 46  | 265 | \n",
       "| 104 | 38  | 222 | \n",
       "| 143 | 51  | 274 | \n",
       "|  99 | 35  | 216 | \n",
       "\n",
       "\n"
      ],
      "text/plain": [
       "  Height Width Length\n",
       "1 158    68    318   \n",
       "2 148    56    312   \n",
       "3 124    46    265   \n",
       "4 104    38    222   \n",
       "5 143    51    274   \n",
       "6  99    35    216   "
      ]
     },
     "metadata": {},
     "output_type": "display_data"
    }
   ],
   "source": [
    "# Split data into targets and features\n",
    "X = subset(data, select=c(Height, Width, Length))\n",
    "y = subset(data, select=c(Mass))\n",
    "\n",
    "head(y)\n",
    "head(X)"
   ]
  },
  {
   "cell_type": "code",
   "execution_count": null,
   "metadata": {},
   "outputs": [],
   "source": [
    "def model(X, m, c):\n",
    "    return m * X + c"
   ]
  },
  {
   "cell_type": "code",
   "execution_count": null,
   "metadata": {},
   "outputs": [],
   "source": [
    "RSS = (y-model(X))^2  # Residual sum of squares error"
   ]
  },
  {
   "cell_type": "code",
   "execution_count": null,
   "metadata": {},
   "outputs": [],
   "source": [
    "# Minimize RSS using gradient descent.\n",
    "# 1. Determine gradient of loss function w.r.t model parameters\n",
    "# Update parameters in the direction of negative gradient times learning_rate"
   ]
  },
  {
   "cell_type": "code",
   "execution_count": 71,
   "metadata": {},
   "outputs": [],
   "source": [
    "# Randomly initialize model parameters\n",
    "m_height = 0.5\n",
    "m_width = 0.5\n",
    "m_length = 0.5"
   ]
  },
  {
   "cell_type": "code",
   "execution_count": 72,
   "metadata": {},
   "outputs": [
    {
     "data": {
      "text/html": [
       "<ol class=list-inline>\n",
       "\t<li>0.5</li>\n",
       "\t<li>0.5</li>\n",
       "\t<li>0.5</li>\n",
       "</ol>\n"
      ],
      "text/latex": [
       "\\begin{enumerate*}\n",
       "\\item 0.5\n",
       "\\item 0.5\n",
       "\\item 0.5\n",
       "\\end{enumerate*}\n"
      ],
      "text/markdown": [
       "1. 0.5\n",
       "2. 0.5\n",
       "3. 0.5\n",
       "\n",
       "\n"
      ],
      "text/plain": [
       "[1] 0.5 0.5 0.5"
      ]
     },
     "metadata": {},
     "output_type": "display_data"
    }
   ],
   "source": [
    "theta = c(m_height, m_width, m_length)  # Should include the bias\n",
    "theta"
   ]
  },
  {
   "cell_type": "code",
   "execution_count": 73,
   "metadata": {},
   "outputs": [
    {
     "ename": "ERROR",
     "evalue": "Error in Ops.data.frame(y, theta * X): ‘-’ only defined for equally-sized data frames\n",
     "output_type": "error",
     "traceback": [
      "Error in Ops.data.frame(y, theta * X): ‘-’ only defined for equally-sized data frames\nTraceback:\n",
      "1. Ops.data.frame(y, theta * X)",
      "2. stop(gettextf(\"%s only defined for equally-sized data frames\", \n .     sQuote(.Generic)), domain = NA)"
     ]
    }
   ],
   "source": [
    "dtheta = 2*(y-theta*X)*theta"
   ]
  },
  {
   "cell_type": "code",
   "execution_count": 78,
   "metadata": {},
   "outputs": [],
   "source": [
    "learning_rate = 0.1"
   ]
  },
  {
   "cell_type": "code",
   "execution_count": null,
   "metadata": {},
   "outputs": [],
   "source": [
    "dtheta = theta - learning_rate*dtheta"
   ]
  },
  {
   "cell_type": "code",
   "execution_count": null,
   "metadata": {},
   "outputs": [],
   "source": [
    "# runs until dtheta < threshold"
   ]
  }
 ],
 "metadata": {
  "kernelspec": {
   "display_name": "R",
   "language": "R",
   "name": "ir"
  },
  "language_info": {
   "codemirror_mode": "r",
   "file_extension": ".r",
   "mimetype": "text/x-r-source",
   "name": "R",
   "pygments_lexer": "r",
   "version": "3.4.4"
  }
 },
 "nbformat": 4,
 "nbformat_minor": 2
}
